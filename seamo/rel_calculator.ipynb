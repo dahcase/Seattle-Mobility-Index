{
 "cells": [
  {
   "cell_type": "code",
   "execution_count": 1,
   "metadata": {},
   "outputs": [
    {
     "data": {
      "text/plain": [
       "DataTransformerRegistry.enable('default')"
      ]
     },
     "execution_count": 1,
     "metadata": {},
     "output_type": "execute_result"
    }
   ],
   "source": [
    "import init\n",
    "import constants as cn\n",
    "import numpy as np\n",
    "import pandas as pd\n",
    "import parse_datetime as pdt\n",
    "import altair as alt\n",
    "# import matplotlib.pyplot as plt\n",
    "alt.data_transformers.enable('default', max_rows=None)"
   ]
  },
  {
   "cell_type": "code",
   "execution_count": 186,
   "metadata": {},
   "outputs": [],
   "source": [
    "sim_data = pd.read_csv(cn.SIMULATED_CAR_DATA_FP)"
   ]
  },
  {
   "cell_type": "code",
   "execution_count": 197,
   "metadata": {},
   "outputs": [
    {
     "data": {
      "text/html": [
       "<div>\n",
       "<style scoped>\n",
       "    .dataframe tbody tr th:only-of-type {\n",
       "        vertical-align: middle;\n",
       "    }\n",
       "\n",
       "    .dataframe tbody tr th {\n",
       "        vertical-align: top;\n",
       "    }\n",
       "\n",
       "    .dataframe thead th {\n",
       "        text-align: right;\n",
       "    }\n",
       "</style>\n",
       "<table border=\"1\" class=\"dataframe\">\n",
       "  <thead>\n",
       "    <tr style=\"text-align: right;\">\n",
       "      <th></th>\n",
       "      <th>Unnamed: 0</th>\n",
       "      <th>block_group</th>\n",
       "      <th>lat</th>\n",
       "      <th>lon</th>\n",
       "      <th>departure_time</th>\n",
       "      <th>distance</th>\n",
       "      <th>duration</th>\n",
       "      <th>duration_in_traffic</th>\n",
       "      <th>class</th>\n",
       "      <th>destination</th>\n",
       "      <th>time</th>\n",
       "      <th>simulated_traffic_time</th>\n",
       "    </tr>\n",
       "  </thead>\n",
       "  <tbody>\n",
       "    <tr>\n",
       "      <th>0</th>\n",
       "      <td>120076</td>\n",
       "      <td>530330001001</td>\n",
       "      <td>47.54841</td>\n",
       "      <td>-122.352194</td>\n",
       "      <td>2018-07-25 07:00:00-07:00</td>\n",
       "      <td>15.624612</td>\n",
       "      <td>28.933333</td>\n",
       "      <td>31.983333</td>\n",
       "      <td>citywide</td>\n",
       "      <td>-74.803784</td>\n",
       "      <td>7</td>\n",
       "      <td>30.686239</td>\n",
       "    </tr>\n",
       "    <tr>\n",
       "      <th>1</th>\n",
       "      <td>25460</td>\n",
       "      <td>530330001001</td>\n",
       "      <td>47.54841</td>\n",
       "      <td>-122.352194</td>\n",
       "      <td>2018-07-25 08:00:00-07:00</td>\n",
       "      <td>15.565569</td>\n",
       "      <td>28.400000</td>\n",
       "      <td>39.250000</td>\n",
       "      <td>citywide</td>\n",
       "      <td>-74.803784</td>\n",
       "      <td>8</td>\n",
       "      <td>32.675034</td>\n",
       "    </tr>\n",
       "    <tr>\n",
       "      <th>2</th>\n",
       "      <td>89121</td>\n",
       "      <td>530330001001</td>\n",
       "      <td>47.54841</td>\n",
       "      <td>-122.352194</td>\n",
       "      <td>2018-07-25 09:00:00-07:00</td>\n",
       "      <td>15.624612</td>\n",
       "      <td>28.933333</td>\n",
       "      <td>35.900000</td>\n",
       "      <td>citywide</td>\n",
       "      <td>-74.803784</td>\n",
       "      <td>9</td>\n",
       "      <td>31.199236</td>\n",
       "    </tr>\n",
       "    <tr>\n",
       "      <th>3</th>\n",
       "      <td>156230</td>\n",
       "      <td>530330001001</td>\n",
       "      <td>47.54841</td>\n",
       "      <td>-122.352194</td>\n",
       "      <td>2018-07-25 10:00:00-07:00</td>\n",
       "      <td>15.624612</td>\n",
       "      <td>28.933333</td>\n",
       "      <td>29.833333</td>\n",
       "      <td>citywide</td>\n",
       "      <td>-74.803784</td>\n",
       "      <td>10</td>\n",
       "      <td>31.786378</td>\n",
       "    </tr>\n",
       "    <tr>\n",
       "      <th>4</th>\n",
       "      <td>77191</td>\n",
       "      <td>530330001001</td>\n",
       "      <td>47.54841</td>\n",
       "      <td>-122.352194</td>\n",
       "      <td>2018-07-25 11:00:00-07:00</td>\n",
       "      <td>15.624612</td>\n",
       "      <td>28.933333</td>\n",
       "      <td>30.650000</td>\n",
       "      <td>citywide</td>\n",
       "      <td>-74.803784</td>\n",
       "      <td>11</td>\n",
       "      <td>34.205688</td>\n",
       "    </tr>\n",
       "  </tbody>\n",
       "</table>\n",
       "</div>"
      ],
      "text/plain": [
       "   Unnamed: 0   block_group       lat         lon             departure_time  \\\n",
       "0      120076  530330001001  47.54841 -122.352194  2018-07-25 07:00:00-07:00   \n",
       "1       25460  530330001001  47.54841 -122.352194  2018-07-25 08:00:00-07:00   \n",
       "2       89121  530330001001  47.54841 -122.352194  2018-07-25 09:00:00-07:00   \n",
       "3      156230  530330001001  47.54841 -122.352194  2018-07-25 10:00:00-07:00   \n",
       "4       77191  530330001001  47.54841 -122.352194  2018-07-25 11:00:00-07:00   \n",
       "\n",
       "    distance   duration  duration_in_traffic     class  destination  time  \\\n",
       "0  15.624612  28.933333            31.983333  citywide   -74.803784     7   \n",
       "1  15.565569  28.400000            39.250000  citywide   -74.803784     8   \n",
       "2  15.624612  28.933333            35.900000  citywide   -74.803784     9   \n",
       "3  15.624612  28.933333            29.833333  citywide   -74.803784    10   \n",
       "4  15.624612  28.933333            30.650000  citywide   -74.803784    11   \n",
       "\n",
       "   simulated_traffic_time  \n",
       "0               30.686239  \n",
       "1               32.675034  \n",
       "2               31.199236  \n",
       "3               31.786378  \n",
       "4               34.205688  "
      ]
     },
     "execution_count": 197,
     "metadata": {},
     "output_type": "execute_result"
    }
   ],
   "source": [
    "sim_data.head()\n",
    "# type(sim_data.block_group[0])"
   ]
  },
  {
   "cell_type": "code",
   "execution_count": null,
   "metadata": {},
   "outputs": [],
   "source": [
    "#Pulling out time from the google dist out\n",
    "# df['time'] = df.apply(lambda x: pdt.ParseDatetime(x['departure_time']).time.hour, axis = 1)"
   ]
  },
  {
   "cell_type": "code",
   "execution_count": 181,
   "metadata": {},
   "outputs": [],
   "source": [
    "#calculalating variance per blockgroup per departure time using simulated data\n",
    "df_var = sim_data.groupby(['block_group','departure_time', 'time'])['simulated_traffic_time'].var()\n",
    "df_var = df_var.to_frame('var').reset_index()"
   ]
  },
  {
   "cell_type": "code",
   "execution_count": 182,
   "metadata": {},
   "outputs": [],
   "source": [
    "#there are 14 variances for each block group (one for each hour)\n",
    "#calculate mean variance for each block group\n",
    "df_var = df_var.groupby(['block_group'])['var'].mean()\n",
    "df_var = df_var.to_frame('mean').reset_index()"
   ]
  },
  {
   "cell_type": "code",
   "execution_count": 183,
   "metadata": {},
   "outputs": [],
   "source": [
    "a = alt.Chart(df_var).mark_bar().encode(\n",
    "    alt.X('mean:Q', bin=alt.BinParams(maxbins=50)),\n",
    "    y='count()'\n",
    ")"
   ]
  },
  {
   "cell_type": "code",
   "execution_count": 184,
   "metadata": {},
   "outputs": [
    {
     "data": {
      "application/vnd.vegalite.v2+json": {
       "$schema": "https://vega.github.io/schema/vega-lite/v2.4.3.json",
       "config": {
        "view": {
         "height": 300,
         "width": 400
        }
       },
       "data": {
        "values": [
         {
          "block_group": 530330001001,
          "mean": 81.91640262215722
         },
         {
          "block_group": 530330001002,
          "mean": 76.68434899982556
         },
         {
          "block_group": 530330001003,
          "mean": 73.30326583140746
         },
         {
          "block_group": 530330001004,
          "mean": 65.10553752393801
         },
         {
          "block_group": 530330001005,
          "mean": 71.40317786341886
         },
         {
          "block_group": 530330002001,
          "mean": 65.85648963819554
         },
         {
          "block_group": 530330002002,
          "mean": 57.56505998257927
         },
         {
          "block_group": 530330002003,
          "mean": 37.93320791538933
         },
         {
          "block_group": 530330002004,
          "mean": 53.42551533172291
         },
         {
          "block_group": 530330002005,
          "mean": 44.90107518838612
         },
         {
          "block_group": 530330002006,
          "mean": 58.859369416257564
         },
         {
          "block_group": 530330003001,
          "mean": 39.29732971765359
         },
         {
          "block_group": 530330003002,
          "mean": 49.22792534375244
         },
         {
          "block_group": 530330004011,
          "mean": 87.60803979310406
         },
         {
          "block_group": 530330004012,
          "mean": 88.1260464289029
         },
         {
          "block_group": 530330004013,
          "mean": 82.5235348005839
         },
         {
          "block_group": 530330004021,
          "mean": 70.72624805412066
         },
         {
          "block_group": 530330004022,
          "mean": 54.44776785304002
         },
         {
          "block_group": 530330004023,
          "mean": 74.39492937872944
         },
         {
          "block_group": 530330004024,
          "mean": 74.36913717991906
         },
         {
          "block_group": 530330005001,
          "mean": 79.40359866451435
         },
         {
          "block_group": 530330005002,
          "mean": 81.26923027618514
         },
         {
          "block_group": 530330005003,
          "mean": 83.76711912143038
         },
         {
          "block_group": 530330006001,
          "mean": 45.49977456847551
         },
         {
          "block_group": 530330006002,
          "mean": 45.78272136829961
         },
         {
          "block_group": 530330006003,
          "mean": 53.21608973976503
         },
         {
          "block_group": 530330006004,
          "mean": 51.49849583475056
         },
         {
          "block_group": 530330006005,
          "mean": 43.37889914817888
         },
         {
          "block_group": 530330006006,
          "mean": 42.88284006772526
         },
         {
          "block_group": 530330007001,
          "mean": 64.30474661823206
         },
         {
          "block_group": 530330007002,
          "mean": 67.30979820834804
         },
         {
          "block_group": 530330007003,
          "mean": 54.329464504962864
         },
         {
          "block_group": 530330007004,
          "mean": 56.949268921163146
         },
         {
          "block_group": 530330008001,
          "mean": 61.19364516675063
         },
         {
          "block_group": 530330008002,
          "mean": 59.35759847337302
         },
         {
          "block_group": 530330009001,
          "mean": 66.88562028249972
         },
         {
          "block_group": 530330009002,
          "mean": 47.29978494711975
         },
         {
          "block_group": 530330010001,
          "mean": 54.057480422461275
         },
         {
          "block_group": 530330010002,
          "mean": 41.52231591160603
         },
         {
          "block_group": 530330011001,
          "mean": 46.334823710184416
         },
         {
          "block_group": 530330011002,
          "mean": 38.342266250367615
         },
         {
          "block_group": 530330012001,
          "mean": 40.3420749927291
         },
         {
          "block_group": 530330012002,
          "mean": 48.701172506701155
         },
         {
          "block_group": 530330012003,
          "mean": 46.25100561035583
         },
         {
          "block_group": 530330012004,
          "mean": 42.27088059015064
         },
         {
          "block_group": 530330012005,
          "mean": 34.203952842171574
         },
         {
          "block_group": 530330013001,
          "mean": 47.53823717848416
         },
         {
          "block_group": 530330013002,
          "mean": 53.90190662700504
         },
         {
          "block_group": 530330013003,
          "mean": 55.05462918530306
         },
         {
          "block_group": 530330014001,
          "mean": 70.42190354235677
         },
         {
          "block_group": 530330014002,
          "mean": 73.74993868345587
         },
         {
          "block_group": 530330014003,
          "mean": 87.78237533093059
         },
         {
          "block_group": 530330014004,
          "mean": 91.5640799840121
         },
         {
          "block_group": 530330015001,
          "mean": 112.53799310431842
         },
         {
          "block_group": 530330015002,
          "mean": 114.39502920235576
         },
         {
          "block_group": 530330016001,
          "mean": 103.05239879111062
         },
         {
          "block_group": 530330016002,
          "mean": 109.588266232388
         },
         {
          "block_group": 530330016003,
          "mean": 102.58518958173053
         },
         {
          "block_group": 530330017011,
          "mean": 70.36980271525435
         },
         {
          "block_group": 530330017012,
          "mean": 58.02052345546359
         },
         {
          "block_group": 530330017013,
          "mean": 63.433415562947395
         },
         {
          "block_group": 530330017021,
          "mean": 68.09326897054244
         },
         {
          "block_group": 530330017022,
          "mean": 81.44877530928144
         },
         {
          "block_group": 530330017023,
          "mean": 85.67677739122007
         },
         {
          "block_group": 530330017024,
          "mean": 77.68203362607868
         },
         {
          "block_group": 530330018001,
          "mean": 43.976889653258546
         },
         {
          "block_group": 530330018002,
          "mean": 50.75481923634961
         },
         {
          "block_group": 530330018003,
          "mean": 53.42052004565503
         },
         {
          "block_group": 530330019001,
          "mean": 56.066212960143034
         },
         {
          "block_group": 530330019002,
          "mean": 39.529990793993974
         },
         {
          "block_group": 530330019003,
          "mean": 52.16594335676548
         },
         {
          "block_group": 530330020001,
          "mean": 28.698069157707433
         },
         {
          "block_group": 530330020002,
          "mean": 33.659865005553876
         },
         {
          "block_group": 530330020003,
          "mean": 29.970658660221876
         },
         {
          "block_group": 530330021001,
          "mean": 35.969603804348935
         },
         {
          "block_group": 530330021002,
          "mean": 32.37338789436417
         },
         {
          "block_group": 530330021003,
          "mean": 29.514054526492227
         },
         {
          "block_group": 530330022001,
          "mean": 44.39310505587855
         },
         {
          "block_group": 530330022002,
          "mean": 42.23910940468398
         },
         {
          "block_group": 530330022003,
          "mean": 41.10370711265137
         },
         {
          "block_group": 530330022004,
          "mean": 40.769299118902836
         },
         {
          "block_group": 530330024001,
          "mean": 39.455437886914716
         },
         {
          "block_group": 530330024002,
          "mean": 39.807386329053436
         },
         {
          "block_group": 530330024003,
          "mean": 35.48587689900248
         },
         {
          "block_group": 530330025001,
          "mean": 31.50070322409527
         },
         {
          "block_group": 530330025002,
          "mean": 32.71207944160654
         },
         {
          "block_group": 530330026001,
          "mean": 27.456254627261963
         },
         {
          "block_group": 530330026002,
          "mean": 31.02239581749211
         },
         {
          "block_group": 530330026003,
          "mean": 33.94511691880732
         },
         {
          "block_group": 530330026004,
          "mean": 23.99737221166274
         },
         {
          "block_group": 530330027001,
          "mean": 30.026086269407504
         },
         {
          "block_group": 530330027002,
          "mean": 39.48942084865234
         },
         {
          "block_group": 530330027003,
          "mean": 41.34010344659411
         },
         {
          "block_group": 530330027004,
          "mean": 43.336701882751406
         },
         {
          "block_group": 530330028001,
          "mean": 48.359504243340226
         },
         {
          "block_group": 530330028002,
          "mean": 44.20225223646661
         },
         {
          "block_group": 530330028003,
          "mean": 40.47326154613779
         },
         {
          "block_group": 530330028004,
          "mean": 52.13226874104661
         },
         {
          "block_group": 530330029001,
          "mean": 69.1170031671251
         },
         {
          "block_group": 530330029002,
          "mean": 60.28975175835585
         },
         {
          "block_group": 530330029003,
          "mean": 65.29324266599683
         },
         {
          "block_group": 530330030001,
          "mean": 74.36224721860596
         },
         {
          "block_group": 530330030002,
          "mean": 98.15752894775142
         },
         {
          "block_group": 530330030003,
          "mean": 87.71005725362052
         },
         {
          "block_group": 530330030004,
          "mean": 97.00337059739216
         },
         {
          "block_group": 530330031001,
          "mean": 100.20364929246334
         },
         {
          "block_group": 530330031002,
          "mean": 109.00507297738265
         },
         {
          "block_group": 530330031003,
          "mean": 101.74629681528931
         },
         {
          "block_group": 530330031004,
          "mean": 111.40253512596257
         },
         {
          "block_group": 530330031005,
          "mean": 111.31575095029834
         },
         {
          "block_group": 530330032001,
          "mean": 106.42955544431065
         },
         {
          "block_group": 530330032002,
          "mean": 105.18604722008885
         },
         {
          "block_group": 530330032003,
          "mean": 90.39472472002775
         },
         {
          "block_group": 530330032004,
          "mean": 97.53449663028162
         },
         {
          "block_group": 530330032005,
          "mean": 108.66666147121181
         },
         {
          "block_group": 530330032006,
          "mean": 112.45006263751027
         },
         {
          "block_group": 530330032007,
          "mean": 109.79562520152737
         },
         {
          "block_group": 530330033001,
          "mean": 73.38232117689469
         },
         {
          "block_group": 530330033002,
          "mean": 63.82503170553558
         },
         {
          "block_group": 530330033003,
          "mean": 85.59324291994417
         },
         {
          "block_group": 530330033004,
          "mean": 99.871483728336
         },
         {
          "block_group": 530330033005,
          "mean": 98.44138888143546
         },
         {
          "block_group": 530330034001,
          "mean": 48.92969345208168
         },
         {
          "block_group": 530330034002,
          "mean": 56.47521707167796
         },
         {
          "block_group": 530330034003,
          "mean": 50.259653434176805
         },
         {
          "block_group": 530330035001,
          "mean": 37.03321954536181
         },
         {
          "block_group": 530330035002,
          "mean": 29.497645319009056
         },
         {
          "block_group": 530330035003,
          "mean": 35.232175569267106
         },
         {
          "block_group": 530330036001,
          "mean": 31.558074480438844
         },
         {
          "block_group": 530330036002,
          "mean": 39.177610885987164
         },
         {
          "block_group": 530330036003,
          "mean": 34.895218506467785
         },
         {
          "block_group": 530330036004,
          "mean": 37.98528816480924
         },
         {
          "block_group": 530330038001,
          "mean": 39.61665325686345
         },
         {
          "block_group": 530330038002,
          "mean": 35.43324319087847
         },
         {
          "block_group": 530330039001,
          "mean": 47.22309217961979
         },
         {
          "block_group": 530330039002,
          "mean": 44.62644006555871
         },
         {
          "block_group": 530330040001,
          "mean": 52.68594346134792
         },
         {
          "block_group": 530330040002,
          "mean": 47.75344527453878
         },
         {
          "block_group": 530330041001,
          "mean": 46.89894450667303
         },
         {
          "block_group": 530330041002,
          "mean": 45.05489776459223
         },
         {
          "block_group": 530330041003,
          "mean": 35.79461129059721
         },
         {
          "block_group": 530330041004,
          "mean": 42.18460389784048
         },
         {
          "block_group": 530330041005,
          "mean": 30.656742706539955
         },
         {
          "block_group": 530330041006,
          "mean": 32.171650103529416
         },
         {
          "block_group": 530330042001,
          "mean": 50.017628873560724
         },
         {
          "block_group": 530330042002,
          "mean": 53.80566841538846
         },
         {
          "block_group": 530330042003,
          "mean": 34.37851962332786
         },
         {
          "block_group": 530330042004,
          "mean": 47.75704463947447
         },
         {
          "block_group": 530330042005,
          "mean": 51.739972978935306
         },
         {
          "block_group": 530330043011,
          "mean": 34.873991897524874
         },
         {
          "block_group": 530330043012,
          "mean": 43.892320958573954
         },
         {
          "block_group": 530330043013,
          "mean": 41.181876661875826
         },
         {
          "block_group": 530330043021,
          "mean": 33.80443044187226
         },
         {
          "block_group": 530330043022,
          "mean": 37.08406402265602
         },
         {
          "block_group": 530330044001,
          "mean": 39.585999882472706
         },
         {
          "block_group": 530330044002,
          "mean": 37.14812634588226
         },
         {
          "block_group": 530330044003,
          "mean": 37.47504688215288
         },
         {
          "block_group": 530330044004,
          "mean": 30.814372227548052
         },
         {
          "block_group": 530330045001,
          "mean": 24.28814913682886
         },
         {
          "block_group": 530330045002,
          "mean": 21.773584930094195
         },
         {
          "block_group": 530330046001,
          "mean": 37.28963919771924
         },
         {
          "block_group": 530330046002,
          "mean": 30.5980659554071
         },
         {
          "block_group": 530330046003,
          "mean": 24.251449017575492
         },
         {
          "block_group": 530330047001,
          "mean": 62.80297811879925
         },
         {
          "block_group": 530330047002,
          "mean": 64.85372318073048
         },
         {
          "block_group": 530330047003,
          "mean": 81.20160611098754
         },
         {
          "block_group": 530330047004,
          "mean": 82.21020244394812
         },
         {
          "block_group": 530330048001,
          "mean": 40.365352720075315
         },
         {
          "block_group": 530330048002,
          "mean": 43.10897615511379
         },
         {
          "block_group": 530330048003,
          "mean": 51.08136282220932
         },
         {
          "block_group": 530330048004,
          "mean": 48.547753016285135
         },
         {
          "block_group": 530330049001,
          "mean": 31.150994809763407
         },
         {
          "block_group": 530330049002,
          "mean": 38.29723907609404
         },
         {
          "block_group": 530330049003,
          "mean": 41.83621496146886
         },
         {
          "block_group": 530330049004,
          "mean": 35.211618226850554
         },
         {
          "block_group": 530330049005,
          "mean": 34.699637260527545
         },
         {
          "block_group": 530330050001,
          "mean": 38.810393529542075
         },
         {
          "block_group": 530330050002,
          "mean": 38.66228830299547
         },
         {
          "block_group": 530330050003,
          "mean": 38.085523652750524
         },
         {
          "block_group": 530330051001,
          "mean": 28.141528239146222
         },
         {
          "block_group": 530330051002,
          "mean": 29.779139762266198
         },
         {
          "block_group": 530330051003,
          "mean": 31.613735324272405
         },
         {
          "block_group": 530330052001,
          "mean": 20.42066008509665
         },
         {
          "block_group": 530330052002,
          "mean": 24.88917070138214
         },
         {
          "block_group": 530330052003,
          "mean": 22.53316600339016
         },
         {
          "block_group": 530330052004,
          "mean": 17.830167803096895
         },
         {
          "block_group": 530330052005,
          "mean": 20.835891840931197
         },
         {
          "block_group": 530330053011,
          "mean": 33.321757706291
         },
         {
          "block_group": 530330053012,
          "mean": 32.951666331063386
         },
         {
          "block_group": 530330053013,
          "mean": 30.270118264419768
         },
         {
          "block_group": 530330053014,
          "mean": 33.69057215954221
         },
         {
          "block_group": 530330053021,
          "mean": 34.58407449574961
         },
         {
          "block_group": 530330053022,
          "mean": 28.783168448544384
         },
         {
          "block_group": 530330053023,
          "mean": 22.15979541079141
         },
         {
          "block_group": 530330054001,
          "mean": 34.98473266740036
         },
         {
          "block_group": 530330054002,
          "mean": 36.707518196666165
         },
         {
          "block_group": 530330054003,
          "mean": 40.28146492950598
         },
         {
          "block_group": 530330054004,
          "mean": 34.70269817352982
         },
         {
          "block_group": 530330056001,
          "mean": 74.92359545823376
         },
         {
          "block_group": 530330056002,
          "mean": 69.18447485732152
         },
         {
          "block_group": 530330056003,
          "mean": 65.58750127026589
         },
         {
          "block_group": 530330056004,
          "mean": 67.04940403652797
         },
         {
          "block_group": 530330056005,
          "mean": 59.00165353890042
         },
         {
          "block_group": 530330057001,
          "mean": 81.37746740506158
         },
         {
          "block_group": 530330057002,
          "mean": 71.21525539076906
         },
         {
          "block_group": 530330057003,
          "mean": 67.42636537204352
         },
         {
          "block_group": 530330057004,
          "mean": 77.19632643435882
         },
         {
          "block_group": 530330057005,
          "mean": 75.49425769776701
         },
         {
          "block_group": 530330057006,
          "mean": 78.4612278470322
         },
         {
          "block_group": 530330058011,
          "mean": 68.04590821382592
         },
         {
          "block_group": 530330058012,
          "mean": 70.1244637740335
         },
         {
          "block_group": 530330058013,
          "mean": 68.3709157705672
         },
         {
          "block_group": 530330058014,
          "mean": 62.01779898657039
         },
         {
          "block_group": 530330058021,
          "mean": 68.75606314041008
         },
         {
          "block_group": 530330058022,
          "mean": 51.86264595636184
         },
         {
          "block_group": 530330058023,
          "mean": 53.41155985808882
         },
         {
          "block_group": 530330059001,
          "mean": 48.48933981673913
         },
         {
          "block_group": 530330059002,
          "mean": 54.320570326345276
         },
         {
          "block_group": 530330059003,
          "mean": 44.43041428418054
         },
         {
          "block_group": 530330059004,
          "mean": 54.70353416170518
         },
         {
          "block_group": 530330059005,
          "mean": 46.7383215647338
         },
         {
          "block_group": 530330060001,
          "mean": 33.10584318625107
         },
         {
          "block_group": 530330060002,
          "mean": 29.627339872761386
         },
         {
          "block_group": 530330060003,
          "mean": 38.47273283794248
         },
         {
          "block_group": 530330060004,
          "mean": 36.4550265488713
         },
         {
          "block_group": 530330061001,
          "mean": 20.251336636657907
         },
         {
          "block_group": 530330061002,
          "mean": 21.403470424135474
         },
         {
          "block_group": 530330061003,
          "mean": 19.021100739134194
         },
         {
          "block_group": 530330061004,
          "mean": 23.724297198877252
         },
         {
          "block_group": 530330062001,
          "mean": 17.49612297386923
         },
         {
          "block_group": 530330062002,
          "mean": 21.79120690116118
         },
         {
          "block_group": 530330062003,
          "mean": 26.045991810371472
         },
         {
          "block_group": 530330063001,
          "mean": 43.621918125301235
         },
         {
          "block_group": 530330063002,
          "mean": 40.96568684412535
         },
         {
          "block_group": 530330063003,
          "mean": 40.98369586959383
         },
         {
          "block_group": 530330063004,
          "mean": 31.101953406530754
         },
         {
          "block_group": 530330064001,
          "mean": 35.46191359303536
         },
         {
          "block_group": 530330064002,
          "mean": 34.16663654468418
         },
         {
          "block_group": 530330064003,
          "mean": 38.48998352334702
         },
         {
          "block_group": 530330065001,
          "mean": 27.487088064779662
         },
         {
          "block_group": 530330065002,
          "mean": 30.319310651401327
         },
         {
          "block_group": 530330065003,
          "mean": 34.209062508925
         },
         {
          "block_group": 530330066001,
          "mean": 23.576198406460502
         },
         {
          "block_group": 530330066002,
          "mean": 22.143841294867464
         },
         {
          "block_group": 530330067001,
          "mean": 32.374107562647986
         },
         {
          "block_group": 530330067002,
          "mean": 24.73761937552258
         },
         {
          "block_group": 530330067003,
          "mean": 29.48350879028414
         },
         {
          "block_group": 530330067004,
          "mean": 31.9063002078172
         },
         {
          "block_group": 530330068001,
          "mean": 46.1093775758507
         },
         {
          "block_group": 530330068002,
          "mean": 53.047355999160864
         },
         {
          "block_group": 530330069001,
          "mean": 55.453031788286125
         },
         {
          "block_group": 530330069002,
          "mean": 58.076151860717744
         },
         {
          "block_group": 530330069003,
          "mean": 51.84629661999532
         },
         {
          "block_group": 530330069004,
          "mean": 54.73581676518017
         },
         {
          "block_group": 530330070001,
          "mean": 41.9515199130202
         },
         {
          "block_group": 530330070002,
          "mean": 44.890205734492824
         },
         {
          "block_group": 530330070003,
          "mean": 39.623971723753826
         },
         {
          "block_group": 530330070004,
          "mean": 52.358691646007166
         },
         {
          "block_group": 530330070005,
          "mean": 45.44484037801618
         },
         {
          "block_group": 530330070006,
          "mean": 46.990633785802856
         },
         {
          "block_group": 530330071001,
          "mean": 44.68343344259764
         },
         {
          "block_group": 530330071002,
          "mean": 40.685557580954466
         },
         {
          "block_group": 530330072001,
          "mean": 26.984824521332037
         },
         {
          "block_group": 530330072002,
          "mean": 29.51915845455481
         },
         {
          "block_group": 530330072003,
          "mean": 35.03400506022115
         },
         {
          "block_group": 530330073001,
          "mean": 19.938581655570868
         },
         {
          "block_group": 530330073002,
          "mean": 18.73355480512524
         },
         {
          "block_group": 530330073003,
          "mean": 21.8151224411865
         },
         {
          "block_group": 530330074011,
          "mean": 28.1321395533011
         },
         {
          "block_group": 530330074012,
          "mean": 33.66639860441267
         },
         {
          "block_group": 530330074013,
          "mean": 21.11894071388387
         },
         {
          "block_group": 530330074014,
          "mean": 25.249098338307835
         },
         {
          "block_group": 530330074021,
          "mean": 24.928028456335873
         },
         {
          "block_group": 530330074022,
          "mean": 23.899394382703253
         },
         {
          "block_group": 530330074023,
          "mean": 18.006888080805798
         },
         {
          "block_group": 530330075001,
          "mean": 38.21151673032802
         },
         {
          "block_group": 530330075002,
          "mean": 38.32580305463397
         },
         {
          "block_group": 530330075003,
          "mean": 39.18273747909101
         },
         {
          "block_group": 530330075004,
          "mean": 34.18037942041662
         },
         {
          "block_group": 530330075005,
          "mean": 30.507320776755197
         },
         {
          "block_group": 530330076001,
          "mean": 39.66274728081892
         },
         {
          "block_group": 530330076002,
          "mean": 38.864997740841865
         },
         {
          "block_group": 530330076003,
          "mean": 39.08619354301045
         },
         {
          "block_group": 530330077001,
          "mean": 43.32064539101971
         },
         {
          "block_group": 530330077002,
          "mean": 38.592744143753144
         },
         {
          "block_group": 530330077003,
          "mean": 43.25441969361764
         },
         {
          "block_group": 530330077004,
          "mean": 39.89257168213461
         },
         {
          "block_group": 530330078001,
          "mean": 47.28128137913759
         },
         {
          "block_group": 530330078002,
          "mean": 49.68231880818992
         },
         {
          "block_group": 530330078003,
          "mean": 45.529048505604884
         },
         {
          "block_group": 530330078004,
          "mean": 43.62039387834218
         },
         {
          "block_group": 530330079001,
          "mean": 43.73173818176101
         },
         {
          "block_group": 530330079002,
          "mean": 45.06578531303233
         },
         {
          "block_group": 530330079003,
          "mean": 41.15463866840132
         },
         {
          "block_group": 530330079004,
          "mean": 38.86948923315849
         },
         {
          "block_group": 530330079005,
          "mean": 39.67531508301368
         },
         {
          "block_group": 530330080011,
          "mean": 39.09546266898718
         },
         {
          "block_group": 530330080012,
          "mean": 37.909580716616006
         },
         {
          "block_group": 530330080013,
          "mean": 40.11839277983201
         },
         {
          "block_group": 530330080014,
          "mean": 37.960874499186026
         },
         {
          "block_group": 530330080015,
          "mean": 39.196346691352325
         },
         {
          "block_group": 530330080021,
          "mean": 32.190786408404065
         },
         {
          "block_group": 530330080022,
          "mean": 21.537589666539834
         },
         {
          "block_group": 530330081001,
          "mean": 30.27580828909574
         },
         {
          "block_group": 530330081002,
          "mean": 26.36531462576148
         },
         {
          "block_group": 530330081003,
          "mean": 31.493759399553333
         },
         {
          "block_group": 530330082001,
          "mean": 22.210363334733575
         },
         {
          "block_group": 530330082002,
          "mean": 24.496946390423734
         },
         {
          "block_group": 530330082003,
          "mean": 19.610613881999544
         },
         {
          "block_group": 530330083001,
          "mean": 28.621583784149216
         },
         {
          "block_group": 530330083002,
          "mean": 21.077672616810933
         },
         {
          "block_group": 530330084001,
          "mean": 25.829512265188647
         },
         {
          "block_group": 530330084002,
          "mean": 26.42756581681264
         },
         {
          "block_group": 530330084003,
          "mean": 20.567583736743593
         },
         {
          "block_group": 530330085001,
          "mean": 19.53641261973349
         },
         {
          "block_group": 530330085002,
          "mean": 26.536670994122947
         },
         {
          "block_group": 530330085003,
          "mean": 17.237841792489718
         },
         {
          "block_group": 530330086001,
          "mean": 39.94729399319438
         },
         {
          "block_group": 530330086002,
          "mean": 30.338267584866294
         },
         {
          "block_group": 530330086003,
          "mean": 35.578915808758204
         },
         {
          "block_group": 530330087001,
          "mean": 43.53302914941652
         },
         {
          "block_group": 530330087002,
          "mean": 48.716251008420265
         },
         {
          "block_group": 530330087003,
          "mean": 44.47847918732757
         },
         {
          "block_group": 530330088001,
          "mean": 43.97455341104497
         },
         {
          "block_group": 530330088002,
          "mean": 50.14185931424565
         },
         {
          "block_group": 530330088003,
          "mean": 53.66344524649953
         },
         {
          "block_group": 530330089001,
          "mean": 54.66664238856082
         },
         {
          "block_group": 530330089002,
          "mean": 48.38186026776782
         },
         {
          "block_group": 530330089003,
          "mean": 49.352993532965165
         },
         {
          "block_group": 530330089004,
          "mean": 44.047719205603315
         },
         {
          "block_group": 530330090001,
          "mean": 38.885210848337714
         },
         {
          "block_group": 530330090002,
          "mean": 38.140948945662295
         },
         {
          "block_group": 530330091001,
          "mean": 36.15386434006229
         },
         {
          "block_group": 530330091002,
          "mean": 36.88379379651521
         },
         {
          "block_group": 530330092001,
          "mean": 30.958410067294498
         },
         {
          "block_group": 530330092002,
          "mean": 30.214751302977817
         },
         {
          "block_group": 530330093001,
          "mean": 27.129177114963593
         },
         {
          "block_group": 530330093002,
          "mean": 22.58224429157504
         },
         {
          "block_group": 530330093003,
          "mean": 25.885750358386417
         },
         {
          "block_group": 530330094001,
          "mean": 39.87879014943921
         },
         {
          "block_group": 530330094002,
          "mean": 28.96123205318309
         },
         {
          "block_group": 530330094003,
          "mean": 37.8000920497588
         },
         {
          "block_group": 530330094004,
          "mean": 41.402041605040736
         },
         {
          "block_group": 530330094005,
          "mean": 32.61710138611975
         },
         {
          "block_group": 530330095001,
          "mean": 51.33135955783221
         },
         {
          "block_group": 530330095002,
          "mean": 43.38932526508086
         },
         {
          "block_group": 530330095003,
          "mean": 58.67772927536139
         },
         {
          "block_group": 530330095004,
          "mean": 52.54878741790916
         },
         {
          "block_group": 530330096001,
          "mean": 55.048995750044774
         },
         {
          "block_group": 530330096002,
          "mean": 60.351497487047354
         },
         {
          "block_group": 530330096003,
          "mean": 59.35579358831673
         },
         {
          "block_group": 530330096004,
          "mean": 63.354275513416404
         },
         {
          "block_group": 530330096005,
          "mean": 62.35205867914909
         },
         {
          "block_group": 530330097011,
          "mean": 64.89027510564723
         },
         {
          "block_group": 530330097012,
          "mean": 67.39974876345885
         },
         {
          "block_group": 530330097013,
          "mean": 68.14261648823113
         },
         {
          "block_group": 530330097014,
          "mean": 66.48602145635287
         },
         {
          "block_group": 530330097021,
          "mean": 67.53181283480626
         },
         {
          "block_group": 530330097022,
          "mean": 65.45273686559601
         },
         {
          "block_group": 530330097023,
          "mean": 63.8510730522728
         },
         {
          "block_group": 530330097024,
          "mean": 72.71237194911883
         },
         {
          "block_group": 530330097025,
          "mean": 61.183951573743244
         },
         {
          "block_group": 530330098001,
          "mean": 53.813516376863106
         },
         {
          "block_group": 530330098002,
          "mean": 54.30831114310171
         },
         {
          "block_group": 530330098003,
          "mean": 43.959777235673826
         },
         {
          "block_group": 530330098004,
          "mean": 51.75157672196055
         },
         {
          "block_group": 530330098005,
          "mean": 68.10477322547924
         },
         {
          "block_group": 530330099001,
          "mean": 42.00242955491617
         },
         {
          "block_group": 530330099002,
          "mean": 29.362703248842077
         },
         {
          "block_group": 530330099003,
          "mean": 40.37977566905141
         },
         {
          "block_group": 530330099004,
          "mean": 24.87059155739241
         },
         {
          "block_group": 530330100011,
          "mean": 33.419120766393156
         },
         {
          "block_group": 530330100012,
          "mean": 26.219449152576683
         },
         {
          "block_group": 530330100013,
          "mean": 43.77618913594217
         },
         {
          "block_group": 530330100021,
          "mean": 26.50103538042649
         },
         {
          "block_group": 530330100022,
          "mean": 35.394200109160515
         },
         {
          "block_group": 530330100023,
          "mean": 36.707068916961305
         },
         {
          "block_group": 530330100024,
          "mean": 31.758388261246896
         },
         {
          "block_group": 530330101001,
          "mean": 77.46818125000141
         },
         {
          "block_group": 530330101002,
          "mean": 71.03454958517794
         },
         {
          "block_group": 530330101003,
          "mean": 52.74420122917463
         },
         {
          "block_group": 530330101004,
          "mean": 53.72346415792022
         },
         {
          "block_group": 530330101005,
          "mean": 74.43105729124807
         },
         {
          "block_group": 530330102001,
          "mean": 85.76309816718754
         },
         {
          "block_group": 530330102002,
          "mean": 85.35126618367057
         },
         {
          "block_group": 530330102003,
          "mean": 73.87720879717781
         },
         {
          "block_group": 530330102004,
          "mean": 80.29988511599882
         },
         {
          "block_group": 530330103001,
          "mean": 72.37777110413374
         },
         {
          "block_group": 530330103002,
          "mean": 70.6929393681076
         },
         {
          "block_group": 530330103003,
          "mean": 62.6670166691349
         },
         {
          "block_group": 530330103004,
          "mean": 59.245731001627796
         },
         {
          "block_group": 530330103005,
          "mean": 70.50413009516326
         },
         {
          "block_group": 530330104011,
          "mean": 49.760868776784555
         },
         {
          "block_group": 530330104012,
          "mean": 40.727602527504374
         },
         {
          "block_group": 530330104013,
          "mean": 38.08074494710212
         },
         {
          "block_group": 530330104021,
          "mean": 29.83182429278774
         },
         {
          "block_group": 530330104022,
          "mean": 31.749482613545947
         },
         {
          "block_group": 530330104023,
          "mean": 34.01464613881959
         },
         {
          "block_group": 530330104024,
          "mean": 31.739223436573486
         },
         {
          "block_group": 530330105001,
          "mean": 50.257115270703885
         },
         {
          "block_group": 530330105002,
          "mean": 57.223823585859726
         },
         {
          "block_group": 530330105003,
          "mean": 70.57234410844818
         },
         {
          "block_group": 530330105004,
          "mean": 60.21963672666698
         },
         {
          "block_group": 530330105005,
          "mean": 67.26573007211464
         },
         {
          "block_group": 530330106001,
          "mean": 61.269911757884245
         },
         {
          "block_group": 530330106002,
          "mean": 66.3451079900748
         },
         {
          "block_group": 530330106003,
          "mean": 73.6055100202685
         },
         {
          "block_group": 530330106004,
          "mean": 75.36201049502549
         },
         {
          "block_group": 530330106005,
          "mean": 81.63826711656172
         },
         {
          "block_group": 530330106006,
          "mean": 70.67829176817467
         },
         {
          "block_group": 530330107011,
          "mean": 45.0036959029659
         },
         {
          "block_group": 530330107012,
          "mean": 68.8793984225011
         },
         {
          "block_group": 530330107021,
          "mean": 53.331182550894326
         },
         {
          "block_group": 530330107022,
          "mean": 54.37890043198935
         },
         {
          "block_group": 530330107023,
          "mean": 60.50132727603689
         },
         {
          "block_group": 530330108001,
          "mean": 47.014663178245065
         },
         {
          "block_group": 530330108002,
          "mean": 49.44716365019643
         },
         {
          "block_group": 530330108003,
          "mean": 38.93011044349877
         },
         {
          "block_group": 530330109001,
          "mean": 36.81446953040522
         },
         {
          "block_group": 530330109002,
          "mean": 32.6904828909826
         },
         {
          "block_group": 530330110011,
          "mean": 51.587421831708944
         },
         {
          "block_group": 530330110012,
          "mean": 49.81139749956073
         },
         {
          "block_group": 530330110013,
          "mean": 47.19237768207244
         },
         {
          "block_group": 530330110021,
          "mean": 19.806007723867307
         },
         {
          "block_group": 530330110022,
          "mean": 37.84000388266596
         },
         {
          "block_group": 530330110023,
          "mean": 30.566044677822706
         },
         {
          "block_group": 530330111011,
          "mean": 76.63740116524754
         },
         {
          "block_group": 530330111012,
          "mean": 61.62277015457039
         },
         {
          "block_group": 530330111013,
          "mean": 68.8148937683728
         },
         {
          "block_group": 530330111014,
          "mean": 62.47965839232463
         },
         {
          "block_group": 530330111021,
          "mean": 85.78402932806729
         },
         {
          "block_group": 530330111022,
          "mean": 75.44902080449857
         },
         {
          "block_group": 530330111023,
          "mean": 82.94485625545667
         },
         {
          "block_group": 530330111024,
          "mean": 80.1054072035666
         },
         {
          "block_group": 530330112001,
          "mean": 58.323474221404744
         },
         {
          "block_group": 530330112002,
          "mean": 45.19310238736223
         },
         {
          "block_group": 530330112003,
          "mean": 58.66648300726893
         },
         {
          "block_group": 530330113001,
          "mean": 65.03542135152735
         },
         {
          "block_group": 530330113002,
          "mean": 77.11458332450569
         },
         {
          "block_group": 530330113003,
          "mean": 85.75105907765972
         },
         {
          "block_group": 530330113004,
          "mean": 77.66739023268623
         },
         {
          "block_group": 530330113005,
          "mean": 67.06002738325456
         },
         {
          "block_group": 530330114011,
          "mean": 70.45483894142427
         },
         {
          "block_group": 530330114012,
          "mean": 86.4538350496971
         },
         {
          "block_group": 530330114013,
          "mean": 73.0089565676025
         },
         {
          "block_group": 530330114021,
          "mean": 99.7553401680391
         },
         {
          "block_group": 530330114022,
          "mean": 93.81573498211087
         },
         {
          "block_group": 530330114023,
          "mean": 106.42322427038134
         },
         {
          "block_group": 530330115001,
          "mean": 70.23158752825434
         },
         {
          "block_group": 530330115002,
          "mean": 82.42118061336316
         },
         {
          "block_group": 530330115003,
          "mean": 68.66865508192383
         },
         {
          "block_group": 530330116001,
          "mean": 78.26999563387008
         },
         {
          "block_group": 530330116002,
          "mean": 74.38028277594273
         },
         {
          "block_group": 530330116003,
          "mean": 94.4238655393951
         },
         {
          "block_group": 530330116004,
          "mean": 97.67954401715996
         },
         {
          "block_group": 530330116005,
          "mean": 90.81819236738338
         },
         {
          "block_group": 530330116006,
          "mean": 79.86192434768772
         },
         {
          "block_group": 530330117001,
          "mean": 51.19845710992551
         },
         {
          "block_group": 530330117002,
          "mean": 50.58832470424711
         },
         {
          "block_group": 530330117003,
          "mean": 55.238640786208016
         },
         {
          "block_group": 530330117004,
          "mean": 53.56223580448858
         },
         {
          "block_group": 530330118001,
          "mean": 97.02902748531889
         },
         {
          "block_group": 530330118002,
          "mean": 73.29470921756702
         },
         {
          "block_group": 530330118003,
          "mean": 71.09590938773817
         },
         {
          "block_group": 530330118004,
          "mean": 86.3135511448004
         },
         {
          "block_group": 530330118005,
          "mean": 84.39882838176425
         },
         {
          "block_group": 530330118006,
          "mean": 102.42372050333866
         },
         {
          "block_group": 530330119001,
          "mean": 68.08644163702216
         },
         {
          "block_group": 530330119002,
          "mean": 63.16144735395182
         },
         {
          "block_group": 530330119003,
          "mean": 50.34223025557102
         },
         {
          "block_group": 530330119004,
          "mean": 49.21278790960391
         },
         {
          "block_group": 530330119005,
          "mean": 54.36460173685275
         },
         {
          "block_group": 530330120001,
          "mean": 98.47363769571018
         },
         {
          "block_group": 530330120002,
          "mean": 101.26456680344862
         },
         {
          "block_group": 530330120003,
          "mean": 98.98706553057232
         },
         {
          "block_group": 530330121001,
          "mean": 95.60314910901876
         },
         {
          "block_group": 530330121002,
          "mean": 104.3999388925475
         },
         {
          "block_group": 530330260011,
          "mean": 78.58049554995505
         },
         {
          "block_group": 530330264004,
          "mean": 63.35628798807105
         },
         {
          "block_group": 530330264005,
          "mean": 67.42517688995892
         },
         {
          "block_group": 530330265001,
          "mean": 60.62680028475755
         }
        ]
       },
       "encoding": {
        "x": {
         "bin": {
          "maxbins": 50
         },
         "field": "mean",
         "type": "quantitative"
        },
        "y": {
         "aggregate": "count",
         "type": "quantitative"
        }
       },
       "mark": "bar"
      },
      "image/png": "[encoded data removed]",
      "text/plain": [
       "<VegaLite 2 object>\n",
       "\n",
       "If you see this message, it means the renderer has not been properly enabled\n",
       "for the frontend that you are using. For more information, see\n",
       "https://altair-viz.github.io/user_guide/troubleshooting.html\n"
      ]
     },
     "execution_count": 184,
     "metadata": {},
     "output_type": "execute_result"
    }
   ],
   "source": [
    "a"
   ]
  },
  {
   "cell_type": "code",
   "execution_count": 185,
   "metadata": {},
   "outputs": [],
   "source": [
    "#scale the mean variance using gamma distribution a la Woosub\n",
    "\n",
    "from scipy.stats import gamma\n",
    "\n",
    "gam_mean = df_var['mean'].mean()\n",
    "gam_var = df_var['mean'].var()\n",
    "\n",
    "shape_param = gam_mean ** 2 / gam_var\n",
    "scale_param = gam_var / gam_mean\n",
    "\n",
    "YOUR_VALUE = df_var['mean']\n",
    "df_var['reliability_score'] = 1 - gamma.cdf(YOUR_VALUE, a=shape_param, scale=scale_param)"
   ]
  },
  {
   "cell_type": "code",
   "execution_count": 63,
   "metadata": {},
   "outputs": [
    {
     "data": {
      "application/vnd.vegalite.v2+json": {
       "$schema": "https://vega.github.io/schema/vega-lite/v2.4.3.json",
       "config": {
        "view": {
         "height": 300,
         "width": 400
        }
       },
       "data": {
        "values": [
         {
          "block_group": 530330001001,
          "mean": 81.91640262215722,
          "norm": 0.8431327090252804,
          "reliability_score": 0.09961139107867256
         },
         {
          "block_group": 530330001002,
          "mean": 76.68434899982556,
          "norm": 0.789281277527374,
          "reliability_score": 0.13457513523770315
         },
         {
          "block_group": 530330001003,
          "mean": 73.30326583140746,
          "norm": 0.7544811432444134,
          "reliability_score": 0.16224190188445586
         },
         {
          "block_group": 530330001004,
          "mean": 65.10553752393801,
          "norm": 0.6701052105315136,
          "reliability_score": 0.24848539563858463
         },
         {
          "block_group": 530330001005,
          "mean": 71.40317786341886,
          "norm": 0.7349242991380386,
          "reliability_score": 0.17972318991702996
         },
         {
          "block_group": 530330002001,
          "mean": 65.85648963819554,
          "norm": 0.6778344597438192,
          "reliability_score": 0.23937694172589996
         },
         {
          "block_group": 530330002002,
          "mean": 57.56505998257927,
          "norm": 0.5924940965997303,
          "reliability_score": 0.35397309523742926
         },
         {
          "block_group": 530330002003,
          "mean": 37.93320791538933,
          "norm": 0.3904313095784134,
          "reliability_score": 0.7155008414471817
         },
         {
          "block_group": 530330002004,
          "mean": 53.42551533172291,
          "norm": 0.5498874221867162,
          "reliability_score": 0.42229638803219305
         },
         {
          "block_group": 530330002005,
          "mean": 44.90107518838612,
          "norm": 0.4621487754577233,
          "reliability_score": 0.5805043445554547
         },
         {
          "block_group": 530330002006,
          "mean": 58.859369416257564,
          "norm": 0.6058159049824507,
          "reliability_score": 0.3340694643130149
         },
         {
          "block_group": 530330003001,
          "mean": 39.29732971765359,
          "norm": 0.40447166869780193,
          "reliability_score": 0.6894876663379305
         },
         {
          "block_group": 530330003002,
          "mean": 49.22792534375244,
          "norm": 0.5066833103770302,
          "reliability_score": 0.49790562812126027
         },
         {
          "block_group": 530330004011,
          "mean": 87.60803979310406,
          "norm": 0.9017144498380951,
          "reliability_score": 0.07077002909309371
         },
         {
          "block_group": 530330004012,
          "mean": 88.1260464289029,
          "norm": 0.9070460845797801,
          "reliability_score": 0.06855392988751918
         },
         {
          "block_group": 530330004013,
          "mean": 82.5235348005839,
          "norm": 0.8493816772654317,
          "reliability_score": 0.09611158193254377
         },
         {
          "block_group": 530330004021,
          "mean": 70.72624805412066,
          "norm": 0.7279569318506086,
          "reliability_score": 0.18630387878414256
         },
         {
          "block_group": 530330004022,
          "mean": 54.44776785304002,
          "norm": 0.5604090577812568,
          "reliability_score": 0.4047942619994429
         },
         {
          "block_group": 530330004023,
          "mean": 74.39492937872944,
          "norm": 0.7657171987172495,
          "reliability_score": 0.15284002925425344
         },
         {
          "block_group": 530330004024,
          "mean": 74.36913717991906,
          "norm": 0.765451729949596,
          "reliability_score": 0.15305689451978832
         },
         {
          "block_group": 530330005001,
          "mean": 79.40359866451435,
          "norm": 0.8172694247471715,
          "reliability_score": 0.11528949071085925
         },
         {
          "block_group": 530330005002,
          "mean": 81.26923027618514,
          "norm": 0.8364716233843188,
          "reliability_score": 0.103462729416674
         },
         {
          "block_group": 530330005003,
          "mean": 83.76711912143038,
          "norm": 0.8621813923868701,
          "reliability_score": 0.08927459223644696
         },
         {
          "block_group": 530330006001,
          "mean": 45.49977456847551,
          "norm": 0.46831094828353514,
          "reliability_score": 0.5688939429181313
         },
         {
          "block_group": 530330006002,
          "mean": 45.78272136829961,
          "norm": 0.4712232063198909,
          "reliability_score": 0.5634214492146741
         },
         {
          "block_group": 530330006003,
          "mean": 53.21608973976503,
          "norm": 0.5477318884836417,
          "reliability_score": 0.42592984266294986
         },
         {
          "block_group": 530330006004,
          "mean": 51.49849583475056,
          "norm": 0.5300533826437326,
          "reliability_score": 0.4563098667922675
         },
         {
          "block_group": 530330006005,
          "mean": 43.37889914817888,
          "norm": 0.4464816273980969,
          "reliability_score": 0.6101563805833796
         },
         {
          "block_group": 530330006006,
          "mean": 42.88284006772526,
          "norm": 0.4413758900493926,
          "reliability_score": 0.6198410818324996
         },
         {
          "block_group": 530330007001,
          "mean": 64.30474661823206,
          "norm": 0.6618629906087843,
          "reliability_score": 0.25847664505344214
         },
         {
          "block_group": 530330007002,
          "mean": 67.30979820834804,
          "norm": 0.692792782528747,
          "reliability_score": 0.22246087972266804
         },
         {
          "block_group": 530330007003,
          "mean": 54.329464504962864,
          "norm": 0.5591914088225846,
          "reliability_score": 0.4067995392316467
         },
         {
          "block_group": 530330007004,
          "mean": 56.949268921163146,
          "norm": 0.5861560059465051,
          "reliability_score": 0.3636948066175998
         },
         {
          "block_group": 530330008001,
          "mean": 61.19364516675063,
          "norm": 0.629841669959011,
          "reliability_score": 0.30003526005709424
         },
         {
          "block_group": 530330008002,
          "mean": 59.35759847337302,
          "norm": 0.6109439770314452,
          "reliability_score": 0.3266023608189831
         },
         {
          "block_group": 530330009001,
          "mean": 66.88562028249972,
          "norm": 0.6884268891022639,
          "reliability_score": 0.2273018175176318
         },
         {
          "block_group": 530330009002,
          "mean": 47.29978494711975,
          "norm": 0.486837733862977,
          "reliability_score": 0.5342843192743559
         },
         {
          "block_group": 530330010001,
          "mean": 54.057480422461275,
          "norm": 0.5563919856429673,
          "reliability_score": 0.41143001658387757
         },
         {
          "block_group": 530330010002,
          "mean": 41.52231591160603,
          "norm": 0.42737256006023033,
          "reliability_score": 0.6463893085678727
         },
         {
          "block_group": 530330011001,
          "mean": 46.334823710184416,
          "norm": 0.47690577450247645,
          "reliability_score": 0.5527747711242361
         },
         {
          "block_group": 530330011002,
          "mean": 38.342266250367615,
          "norm": 0.394641583114355,
          "reliability_score": 0.7077443744809682
         },
         {
          "block_group": 530330012001,
          "mean": 40.3420749927291,
          "norm": 0.41522481319413407,
          "reliability_score": 0.669327220614709
         },
         {
          "block_group": 530330012002,
          "mean": 48.701172506701155,
          "norm": 0.5012616544903779,
          "reliability_score": 0.5077585733669856
         },
         {
          "block_group": 530330012003,
          "mean": 46.25100561035583,
          "norm": 0.47604306838609833,
          "reliability_score": 0.5543882224684218
         },
         {
          "block_group": 530330012004,
          "mean": 42.27088059015064,
          "norm": 0.4350772363533668,
          "reliability_score": 0.6317890297900994
         },
         {
          "block_group": 530330012005,
          "mean": 34.203952842171574,
          "norm": 0.3520475813886957,
          "reliability_score": 0.7837329044623509
         },
         {
          "block_group": 530330013001,
          "mean": 47.53823717848416,
          "norm": 0.48929202713474995,
          "reliability_score": 0.5297414405090775
         },
         {
          "block_group": 530330013002,
          "mean": 53.90190662700504,
          "norm": 0.5547907269033547,
          "reliability_score": 0.4140912211951937
         },
         {
          "block_group": 530330013003,
          "mean": 55.05462918530306,
          "norm": 0.5666552383103713,
          "reliability_score": 0.39459305325838456
         },
         {
          "block_group": 530330014001,
          "mean": 70.42190354235677,
          "norm": 0.724824435739127,
          "reliability_score": 0.1893241873143372
         },
         {
          "block_group": 530330014002,
          "mean": 73.74993868345587,
          "norm": 0.7590785679327597,
          "reliability_score": 0.15833945652728643
         },
         {
          "block_group": 530330014003,
          "mean": 87.78237533093059,
          "norm": 0.9035088156742641,
          "reliability_score": 0.07001720001167189
         },
         {
          "block_group": 530330014004,
          "mean": 91.5640799840121,
          "norm": 0.9424323863734452,
          "reliability_score": 0.05534878955189404
         },
         {
          "block_group": 530330015001,
          "mean": 112.53799310431842,
          "norm": 1.158308470062715,
          "reliability_score": 0.013681042547933564
         },
         {
          "block_group": 530330015002,
          "mean": 114.39502920235576,
          "norm": 1.1774221985221782,
          "reliability_score": 0.012008615009304835
         },
         {
          "block_group": 530330016001,
          "mean": 103.05239879111062,
          "norm": 1.0606770485890573,
          "reliability_score": 0.026211358175684207
         },
         {
          "block_group": 530330016002,
          "mean": 109.588266232388,
          "norm": 1.1279481132989202,
          "reliability_score": 0.016795352995418233
         },
         {
          "block_group": 530330016003,
          "mean": 102.58518958173053,
          "norm": 1.0558682514034292,
          "reliability_score": 0.027044690929059922
         },
         {
          "block_group": 530330017011,
          "mean": 70.36980271525435,
          "norm": 0.724288182802094,
          "reliability_score": 0.189845096077065
         },
         {
          "block_group": 530330017012,
          "mean": 58.02052345546359,
          "norm": 0.597181999626018,
          "reliability_score": 0.34688651653391755
         },
         {
          "block_group": 530330017013,
          "mean": 63.433415562947395,
          "norm": 0.6528947291912437,
          "reliability_score": 0.26967579489617877
         },
         {
          "block_group": 530330017021,
          "mean": 68.09326897054244,
          "norm": 0.7008567331543375,
          "reliability_score": 0.21372649387762754
         },
         {
          "block_group": 530330017022,
          "mean": 81.44877530928144,
          "norm": 0.8383196084679017,
          "reliability_score": 0.10238159921849466
         },
         {
          "block_group": 530330017023,
          "mean": 85.67677739122007,
          "norm": 0.8818367397749498,
          "reliability_score": 0.07960194193966263
         },
         {
          "block_group": 530330017024,
          "mean": 77.68203362607868,
          "norm": 0.7995500456221553,
          "reliability_score": 0.12720580903227519
         },
         {
          "block_group": 530330018001,
          "mean": 43.976889653258546,
          "norm": 0.4526365040574735,
          "reliability_score": 0.5984910063645041
         },
         {
          "block_group": 530330018002,
          "mean": 50.75481923634961,
          "norm": 0.5223990174009051,
          "reliability_score": 0.46976583572296926
         },
         {
          "block_group": 530330018003,
          "mean": 53.42052004565503,
          "norm": 0.5498360077087856,
          "reliability_score": 0.4223828683017401
         },
         {
          "block_group": 530330019001,
          "mean": 56.066212960143034,
          "norm": 0.5770670647722936,
          "reliability_score": 0.3779133407660027
         },
         {
          "block_group": 530330019002,
          "mean": 39.529990793993974,
          "norm": 0.40686635593137616,
          "reliability_score": 0.6850130855330248
         },
         {
          "block_group": 530330019003,
          "mean": 52.16594335676548,
          "norm": 0.5369231525476228,
          "reliability_score": 0.44438470187088785
         },
         {
          "block_group": 530330020001,
          "mean": 28.698069157707433,
          "norm": 0.2953777267824987,
          "reliability_score": 0.8717631079587875
         },
         {
          "block_group": 530330020002,
          "mean": 33.659865005553876,
          "norm": 0.3464475032974844,
          "reliability_score": 0.793211112507043
         },
         {
          "block_group": 530330020003,
          "mean": 29.970658660221876,
          "norm": 0.30847598061673037,
          "reliability_score": 0.8531379887232396
         },
         {
          "block_group": 530330021001,
          "mean": 35.969603804348935,
          "norm": 0.37022071926195266,
          "reliability_score": 0.752063040375537
         },
         {
          "block_group": 530330021002,
          "mean": 32.37338789436417,
          "norm": 0.33320630987179795,
          "reliability_score": 0.815017329875274
         },
         {
          "block_group": 530330021003,
          "mean": 29.514054526492227,
          "norm": 0.30377633722541414,
          "reliability_score": 0.8599534611566653
         },
         {
          "block_group": 530330022001,
          "mean": 44.39310505587855,
          "norm": 0.4569204424228789,
          "reliability_score": 0.5903826177609626
         },
         {
          "block_group": 530330022002,
          "mean": 42.23910940468398,
          "norm": 0.4347502282717863,
          "reliability_score": 0.6324091583310134
         },
         {
          "block_group": 530330022003,
          "mean": 41.10370711265137,
          "norm": 0.4230639874253647,
          "reliability_score": 0.6545396252874546
         },
         {
          "block_group": 530330022004,
          "mean": 40.769299118902836,
          "norm": 0.41962205993998164,
          "reliability_score": 0.6610398963325664
         },
         {
          "block_group": 530330024001,
          "mean": 39.455437886914716,
          "norm": 0.4060990127314876,
          "reliability_score": 0.6864479363674593
         },
         {
          "block_group": 530330024002,
          "mean": 39.807386329053436,
          "norm": 0.4097214770238512,
          "reliability_score": 0.6796661866767681
         },
         {
          "block_group": 530330024003,
          "mean": 35.48587689900248,
          "norm": 0.3652419120502349,
          "reliability_score": 0.7608674640744151
         },
         {
          "block_group": 530330025001,
          "mean": 31.50070322409527,
          "norm": 0.3242241162376059,
          "reliability_score": 0.8292802082994596
         },
         {
          "block_group": 530330025002,
          "mean": 32.71207944160654,
          "norm": 0.3366923262569118,
          "reliability_score": 0.8093631538073552
         },
         {
          "block_group": 530330026001,
          "mean": 27.456254627261963,
          "norm": 0.2825962274045189,
          "reliability_score": 0.8887815435968526
         },
         {
          "block_group": 530330026002,
          "mean": 31.02239581749211,
          "norm": 0.31930108975490856,
          "reliability_score": 0.836901188649015
         },
         {
          "block_group": 530330026003,
          "mean": 33.94511691880732,
          "norm": 0.3493834869427302,
          "reliability_score": 0.7882598181303744
         },
         {
          "block_group": 530330026004,
          "mean": 23.99737221166274,
          "norm": 0.24699533664378054,
          "reliability_score": 0.9296258562380663
         },
         {
          "block_group": 530330027001,
          "mean": 30.026086269407504,
          "norm": 0.30904647478873437,
          "reliability_score": 0.8523008094847828
         },
         {
          "block_group": 530330027002,
          "mean": 39.48942084865234,
          "norm": 0.40644878573998633,
          "reliability_score": 0.6857940164452836
         },
         {
          "block_group": 530330027003,
          "mean": 41.34010344659411,
          "norm": 0.4254971201687559,
          "reliability_score": 0.6499385966819187
         },
         {
          "block_group": 530330027004,
          "mean": 43.336701882751406,
          "norm": 0.446047307853116,
          "reliability_score": 0.6109800319839027
         },
         {
          "block_group": 530330028001,
          "mean": 48.359504243340226,
          "norm": 0.49774499995899896,
          "reliability_score": 0.5141856087065548
         },
         {
          "block_group": 530330028002,
          "mean": 44.20225223646661,
          "norm": 0.45495607082567724,
          "reliability_score": 0.5940992765482325
         },
         {
          "block_group": 530330028003,
          "mean": 40.47326154613779,
          "norm": 0.41657506382309956,
          "reliability_score": 0.6667847133808584
         },
         {
          "block_group": 530330028004,
          "mean": 52.13226874104661,
          "norm": 0.5365765532211436,
          "reliability_score": 0.44498280559132797
         },
         {
          "block_group": 530330029001,
          "mean": 69.1170031671251,
          "norm": 0.7113936190386926,
          "reliability_score": 0.20271411075043932
         },
         {
          "block_group": 530330029002,
          "mean": 60.28975175835585,
          "norm": 0.6205382572883495,
          "reliability_score": 0.3129265214255297
         },
         {
          "block_group": 530330029003,
          "mean": 65.29324266599683,
          "norm": 0.6720371843469656,
          "reliability_score": 0.24618505835109472
         },
         {
          "block_group": 530330030001,
          "mean": 74.36224721860596,
          "norm": 0.7653808143385455,
          "reliability_score": 0.15311486925454298
         },
         {
          "block_group": 530330030002,
          "mean": 98.15752894775142,
          "norm": 1.0102961146216116,
          "reliability_score": 0.036250171417233856
         },
         {
          "block_group": 530330030003,
          "mean": 87.71005725362052,
          "norm": 0.9027644746817136,
          "reliability_score": 0.07032862238560489
         },
         {
          "block_group": 530330030004,
          "mean": 97.00337059739216,
          "norm": 0.9984168251822175,
          "reliability_score": 0.03908297064811417
         },
         {
          "block_group": 530330031001,
          "mean": 100.20364929246334,
          "norm": 1.0313560114677418,
          "reliability_score": 0.031686711697630154
         },
         {
          "block_group": 530330031002,
          "mean": 109.00507297738265,
          "norm": 1.1219455388054338,
          "reliability_score": 0.01748511601379288
         },
         {
          "block_group": 530330031003,
          "mean": 101.74629681528931,
          "norm": 1.0472338642952241,
          "reliability_score": 0.028602847332437342
         },
         {
          "block_group": 530330031004,
          "mean": 111.40253512596257,
          "norm": 1.1466216560592815,
          "reliability_score": 0.014809302352148168
         },
         {
          "block_group": 530330031005,
          "mean": 111.31575095029834,
          "norm": 1.145728421312807,
          "reliability_score": 0.01489904434316558
         },
         {
          "block_group": 530330032001,
          "mean": 106.42955544431065,
          "norm": 1.0954367688241975,
          "reliability_score": 0.020860711423030587
         },
         {
          "block_group": 530330032002,
          "mean": 105.18604722008885,
          "norm": 1.0826378369348257,
          "reliability_score": 0.022699921090038155
         },
         {
          "block_group": 530330032003,
          "mean": 90.39472472002775,
          "norm": 0.9303966811913744,
          "reliability_score": 0.05955907880618405
         },
         {
          "block_group": 530330032004,
          "mean": 97.53449663028162,
          "norm": 1.003883492621332,
          "reliability_score": 0.03775509695633217
         },
         {
          "block_group": 530330032005,
          "mean": 108.66666147121181,
          "norm": 1.1184624047708591,
          "reliability_score": 0.017897450078448784
         },
         {
          "block_group": 530330032006,
          "mean": 112.45006263751027,
          "norm": 1.1574034370008048,
          "reliability_score": 0.013765437903427102
         },
         {
          "block_group": 530330032007,
          "mean": 109.79562520152737,
          "norm": 1.1300823760814007,
          "reliability_score": 0.016556314157429974
         },
         {
          "block_group": 530330033001,
          "mean": 73.38232117689469,
          "norm": 0.7552948282387487,
          "reliability_score": 0.16154557103361644
         },
         {
          "block_group": 530330033002,
          "mean": 63.82503170553558,
          "norm": 0.6569254772298434,
          "reliability_score": 0.26460004266298287
         },
         {
          "block_group": 530330033003,
          "mean": 85.59324291994417,
          "norm": 0.8809769529336171,
          "reliability_score": 0.0800049690359933
         },
         {
          "block_group": 530330033004,
          "mean": 99.871483728336,
          "norm": 1.0279371644119284,
          "reliability_score": 0.03238963384151705
         },
         {
          "block_group": 530330033005,
          "mean": 98.44138888143546,
          "norm": 1.0132177711789032,
          "reliability_score": 0.035582923380986786
         },
         {
          "block_group": 530330034001,
          "mean": 48.92969345208168,
          "norm": 0.5036137290148953,
          "reliability_score": 0.5034755692617652
         },
         {
          "block_group": 530330034002,
          "mean": 56.47521707167796,
          "norm": 0.5812767802080596,
          "reliability_score": 0.3712875295472855
         },
         {
          "block_group": 530330034003,
          "mean": 50.259653434176805,
          "norm": 0.5173024742076167,
          "reliability_score": 0.47881891254982445
         },
         {
          "block_group": 530330035001,
          "mean": 37.03321954536181,
          "norm": 0.38116808990295237,
          "reliability_score": 0.7324083114141808
         },
         {
          "block_group": 530330035002,
          "mean": 29.497645319009056,
          "norm": 0.30360744382781146,
          "reliability_score": 0.8601956700623279
         },
         {
          "block_group": 530330035003,
          "mean": 35.232175569267106,
          "norm": 0.36263066591910603,
          "reliability_score": 0.7654483414588723
         },
         {
          "block_group": 530330036001,
          "mean": 31.558074480438844,
          "norm": 0.3248146155910047,
          "reliability_score": 0.8283565505209634
         },
         {
          "block_group": 530330036002,
          "mean": 39.177610885987164,
          "norm": 0.40323945073371675,
          "reliability_score": 0.6917863077396513
         },
         {
          "block_group": 530330036003,
          "mean": 34.895218506467785,
          "norm": 0.3591625018873722,
          "reliability_score": 0.7714913317900385
         },
         {
          "block_group": 530330036004,
          "mean": 37.98528816480924,
          "norm": 0.3909673507176057,
          "reliability_score": 0.7145156334821243
         },
         {
          "block_group": 530330038001,
          "mean": 39.61665325686345,
          "norm": 0.4077583379368235,
          "reliability_score": 0.6833439865306415
         },
         {
          "block_group": 530330038002,
          "mean": 35.43324319087847,
          "norm": 0.3647001743823671,
          "reliability_score": 0.7618199631688112
         },
         {
          "block_group": 530330039001,
          "mean": 47.22309217961979,
          "norm": 0.486048365937201,
          "reliability_score": 0.5357477834377035
         },
         {
          "block_group": 530330039002,
          "mean": 44.62644006555871,
          "norm": 0.45932206618228044,
          "reliability_score": 0.5858423411851408
         },
         {
          "block_group": 530330040001,
          "mean": 52.68594346134792,
          "norm": 0.5422753052647323,
          "reliability_score": 0.43519812778513844
         },
         {
          "block_group": 530330040002,
          "mean": 47.75344527453878,
          "norm": 0.49150707783549474,
          "reliability_score": 0.5256512051538608
         },
         {
          "block_group": 530330041001,
          "mean": 46.89894450667303,
          "norm": 0.4827120438226125,
          "reliability_score": 0.5419453433607171
         },
         {
          "block_group": 530330041002,
          "mean": 45.05489776459223,
          "norm": 0.4637320095992922,
          "reliability_score": 0.5775176517640753
         },
         {
          "block_group": 530330041003,
          "mean": 35.79461129059721,
          "norm": 0.36841959143583,
          "reliability_score": 0.7552584578523589
         },
         {
          "block_group": 530330041004,
          "mean": 42.18460389784048,
          "norm": 0.43418922492971174,
          "reliability_score": 0.6334729613878973
         },
         {
          "block_group": 530330041005,
          "mean": 30.656742706539955,
          "norm": 0.3155375687977856,
          "reliability_score": 0.8426290525344735
         },
         {
          "block_group": 530330041006,
          "mean": 32.171650103529416,
          "norm": 0.33112990362525124,
          "reliability_score": 0.8183542667766593
         },
         {
          "block_group": 530330042001,
          "mean": 50.017628873560724,
          "norm": 0.5148114123822565,
          "reliability_score": 0.4832698483330874
         },
         {
          "block_group": 530330042002,
          "mean": 53.80566841538846,
          "norm": 0.5538001855529696,
          "reliability_score": 0.4157419950386352
         },
         {
          "block_group": 530330042003,
          "mean": 34.37851962332786,
          "norm": 0.3538443273198007,
          "reliability_score": 0.7806619803111149
         },
         {
          "block_group": 530330042004,
          "mean": 47.75704463947447,
          "norm": 0.49154412465654473,
          "reliability_score": 0.5255828770641804
         },
         {
          "block_group": 530330042005,
          "mean": 51.739972978935306,
          "norm": 0.5325388101311098,
          "reliability_score": 0.45197846763444427
         },
         {
          "block_group": 530330043011,
          "mean": 34.873991897524874,
          "norm": 0.3589440249068338,
          "reliability_score": 0.7718703934410541
         },
         {
          "block_group": 530330043012,
          "mean": 43.892320958573954,
          "norm": 0.4517660723689991,
          "reliability_score": 0.6001397771838123
         },
         {
          "block_group": 530330043013,
          "mean": 41.181876661875826,
          "norm": 0.4238685552736979,
          "reliability_score": 0.6530186944653857
         },
         {
          "block_group": 530330043021,
          "mean": 33.80443044187226,
          "norm": 0.3479354574074416,
          "reliability_score": 0.7907068057124891
         },
         {
          "block_group": 530330043022,
          "mean": 37.08406402265602,
          "norm": 0.3816914117348177,
          "reliability_score": 0.7314594288618328
         },
         {
          "block_group": 530330044001,
          "mean": 39.585999882472706,
          "norm": 0.40744283503675055,
          "reliability_score": 0.6839345072302837
         },
         {
          "block_group": 530330044002,
          "mean": 37.14812634588226,
          "norm": 0.38235077955858954,
          "reliability_score": 0.730262740482601
         },
         {
          "block_group": 530330044003,
          "mean": 37.47504688215288,
          "norm": 0.3857156416443092,
          "reliability_score": 0.7241367835562184
         },
         {
          "block_group": 530330044004,
          "mean": 30.814372227548052,
          "norm": 0.3171599862967929,
          "reliability_score": 0.8401704401371598
         },
         {
          "block_group": 530330045001,
          "mean": 24.28814913682886,
          "norm": 0.249988187022821,
          "reliability_score": 0.9265804416803629
         },
         {
          "block_group": 530330045002,
          "mean": 21.773584930094195,
          "norm": 0.22410678520612617,
          "reliability_score": 0.9504934162137181
         },
         {
          "block_group": 530330046001,
          "mean": 37.28963919771924,
          "norm": 0.38380731463962264,
          "reliability_score": 0.7276148821903501
         },
         {
          "block_group": 530330046002,
          "mean": 30.5980659554071,
          "norm": 0.31493363250962075,
          "reliability_score": 0.8435401063290036
         },
         {
          "block_group": 530330046003,
          "mean": 24.251449017575492,
          "norm": 0.24961044740075325,
          "reliability_score": 0.9269688308362333
         },
         {
          "block_group": 530330047001,
          "mean": 62.80297811879925,
          "norm": 0.6464058891892314,
          "reliability_score": 0.2779923112037912
         },
         {
          "block_group": 530330047002,
          "mean": 64.85372318073048,
          "norm": 0.6675133863966174,
          "reliability_score": 0.2515961855454021
         },
         {
          "block_group": 530330047003,
          "mean": 81.20160611098754,
          "norm": 0.8357755949483336,
          "reliability_score": 0.10387246944488959
         },
         {
          "block_group": 530330047004,
          "mean": 82.21020244394812,
          "norm": 0.8461566728680322,
          "reliability_score": 0.09790425452522578
         },
         {
          "block_group": 530330048001,
          "mean": 40.365352720075315,
          "norm": 0.415464401514533,
          "reliability_score": 0.6688762335100709
         },
         {
          "block_group": 530330048002,
          "mean": 43.10897615511379,
          "norm": 0.4437034181861896,
          "reliability_score": 0.6154257073425415
         },
         {
          "block_group": 530330048003,
          "mean": 51.08136282220932,
          "norm": 0.525759999687086,
          "reliability_score": 0.46383611874339703
         },
         {
          "block_group": 530330048004,
          "mean": 48.547753016285135,
          "norm": 0.49968256914933346,
          "reliability_score": 0.5106411016704615
         },
         {
          "block_group": 530330049001,
          "mean": 31.150994809763407,
          "norm": 0.32062470765389933,
          "reliability_score": 0.8348663163729566
         },
         {
          "block_group": 530330049002,
          "mean": 38.29723907609404,
          "norm": 0.39417813645154015,
          "reliability_score": 0.7086001713692365
         },
         {
          "block_group": 530330049003,
          "mean": 41.83621496146886,
          "norm": 0.43060339720394697,
          "reliability_score": 0.6402700747512672
         },
         {
          "block_group": 530330049004,
          "mean": 35.211618226850554,
          "norm": 0.36241907743075435,
          "reliability_score": 0.7658183792051505
         },
         {
          "block_group": 530330049005,
          "mean": 34.699637260527545,
          "norm": 0.3571494624905526,
          "reliability_score": 0.7749765718398152
         },
         {
          "block_group": 530330050001,
          "mean": 38.810393529542075,
          "norm": 0.3994598296245141,
          "reliability_score": 0.6988196599539602
         },
         {
          "block_group": 530330050002,
          "mean": 38.66228830299547,
          "norm": 0.39793544187209995,
          "reliability_score": 0.7016484854810769
         },
         {
          "block_group": 530330050003,
          "mean": 38.085523652750524,
          "norm": 0.3919990344315283,
          "reliability_score": 0.712617521125502
         },
         {
          "block_group": 530330051001,
          "mean": 28.141528239146222,
          "norm": 0.2896494741086806,
          "reliability_score": 0.8795359696929379
         },
         {
          "block_group": 530330051002,
          "mean": 29.779139762266198,
          "norm": 0.3065047533399697,
          "reliability_score": 0.8560143832987668
         },
         {
          "block_group": 530330051003,
          "mean": 31.613735324272405,
          "norm": 0.3253875103537849,
          "reliability_score": 0.8274585061343508
         },
         {
          "block_group": 530330052001,
          "mean": 20.42066008509665,
          "norm": 0.21018167188136397,
          "reliability_score": 0.9610957830141266
         },
         {
          "block_group": 530330052002,
          "mean": 24.88917070138214,
          "norm": 0.2561742611628413,
          "reliability_score": 0.9200556379107044
         },
         {
          "block_group": 530330052003,
          "mean": 22.53316600339016,
          "norm": 0.23192484883626818,
          "reliability_score": 0.9438486080622923
         },
         {
          "block_group": 530330052004,
          "mean": 17.830167803096895,
          "norm": 0.18351877280966133,
          "reliability_score": 0.9771306430099397
         },
         {
          "block_group": 530330052005,
          "mean": 20.835891840931197,
          "norm": 0.21445548596454503,
          "reliability_score": 0.9580084971597924
         },
         {
          "block_group": 530330053011,
          "mean": 33.321757706291,
          "norm": 0.3429675003427206,
          "reliability_score": 0.7990270499370175
         },
         {
          "block_group": 530330053012,
          "mean": 32.951666331063386,
          "norm": 0.3391582981097828,
          "reliability_score": 0.8053251237271879
         },
         {
          "block_group": 530330053013,
          "mean": 30.270118264419768,
          "norm": 0.31155819833197357,
          "reliability_score": 0.8485900184563945
         },
         {
          "block_group": 530330053014,
          "mean": 33.69057215954221,
          "norm": 0.3467635597294063,
          "reliability_score": 0.7926800411270436
         },
         {
          "block_group": 530330053021,
          "mean": 34.58407449574961,
          "norm": 0.3559600212576522,
          "reliability_score": 0.7770279670797271
         },
         {
          "block_group": 530330053022,
          "mean": 28.783168448544384,
          "norm": 0.2962536196845642,
          "reliability_score": 0.8705541635416315
         },
         {
          "block_group": 530330053023,
          "mean": 22.15979541079141,
          "norm": 0.2280818949328822,
          "reliability_score": 0.9471774165023344
         },
         {
          "block_group": 530330054001,
          "mean": 34.98473266740036,
          "norm": 0.36008383527833326,
          "reliability_score": 0.7698906704161659
         },
         {
          "block_group": 530330054002,
          "mean": 36.707518196666165,
          "norm": 0.3778157764264244,
          "reliability_score": 0.7384673848390302
         },
         {
          "block_group": 530330054003,
          "mean": 40.28146492950598,
          "norm": 0.4146009780992848,
          "reliability_score": 0.6705011688676012
         },
         {
          "block_group": 530330054004,
          "mean": 34.70269817352982,
          "norm": 0.35718096724160475,
          "reliability_score": 0.774922155836977
         },
         {
          "block_group": 530330056001,
          "mean": 74.92359545823376,
          "norm": 0.7711585468418519,
          "reliability_score": 0.14845028015118178
         },
         {
          "block_group": 530330056002,
          "mean": 69.18447485732152,
          "norm": 0.7120880781105858,
          "reliability_score": 0.20200409985093293
         },
         {
          "block_group": 530330056003,
          "mean": 65.58750127026589,
          "norm": 0.6750658702539352,
          "reliability_score": 0.24261061300603504
         },
         {
          "block_group": 530330056004,
          "mean": 67.04940403652797,
          "norm": 0.690112649655802,
          "reliability_score": 0.22542326098417043
         },
         {
          "block_group": 530330056005,
          "mean": 59.00165353890042,
          "norm": 0.6072803784448475,
          "reliability_score": 0.3319258868434657
         },
         {
          "block_group": 530330057001,
          "mean": 81.37746740506158,
          "norm": 0.8375856647822014,
          "reliability_score": 0.10280980877208246
         },
         {
          "block_group": 530330057002,
          "mean": 71.21525539076906,
          "norm": 0.732990088425896,
          "reliability_score": 0.18153118498625664
         },
         {
          "block_group": 530330057003,
          "mean": 67.42636537204352,
          "norm": 0.6939925616372522,
          "reliability_score": 0.22114438448493412
         },
         {
          "block_group": 530330057004,
          "mean": 77.19632643435882,
          "norm": 0.794550856116279,
          "reliability_score": 0.1307499537084218
         },
         {
          "block_group": 530330057005,
          "mean": 75.49425769776701,
          "norm": 0.777032144614149,
          "reliability_score": 0.14382909637892205
         },
         {
          "block_group": 530330057006,
          "mean": 78.4612278470322,
          "norm": 0.8075699795223249,
          "reliability_score": 0.12168932153884648
         },
         {
          "block_group": 530330058011,
          "mean": 68.04590821382592,
          "norm": 0.700369267862483,
          "reliability_score": 0.21424689961482524
         },
         {
          "block_group": 530330058012,
          "mean": 70.1244637740335,
          "norm": 0.7217630073852113,
          "reliability_score": 0.19231324932601201
         },
         {
          "block_group": 530330058013,
          "mean": 68.3709157705672,
          "norm": 0.7037144404164207,
          "reliability_score": 0.21069521678359415
         },
         {
          "block_group": 530330058014,
          "mean": 62.01779898657039,
          "norm": 0.6383243549954046,
          "reliability_score": 0.2886010055834147
         },
         {
          "block_group": 530330058021,
          "mean": 68.75606314041008,
          "norm": 0.707678607969132,
          "reliability_score": 0.2065453540213107
         },
         {
          "block_group": 530330058022,
          "mean": 51.86264595636184,
          "norm": 0.5338014339338042,
          "reliability_score": 0.44978538575224136
         },
         {
          "block_group": 530330058023,
          "mean": 53.41155985808882,
          "norm": 0.549743784088433,
          "reliability_score": 0.42253801329930774
         },
         {
          "block_group": 530330059001,
          "mean": 48.48933981673913,
          "norm": 0.49908134549204924,
          "reliability_score": 0.5117400690657948
         },
         {
          "block_group": 530330059002,
          "mean": 54.320570326345276,
          "norm": 0.559099864605891,
          "reliability_score": 0.4069505150839441
         },
         {
          "block_group": 530330059003,
          "mean": 44.43041428418054,
          "norm": 0.4573044513603196,
          "reliability_score": 0.5896563635488334
         },
         {
          "block_group": 530330059004,
          "mean": 54.70353416170518,
          "norm": 0.5630415579130915,
          "reliability_score": 0.40047739110753133
         },
         {
          "block_group": 530330059005,
          "mean": 46.7383215647338,
          "norm": 0.48105881624139785,
          "reliability_score": 0.5450233720819824
         },
         {
          "block_group": 530330060001,
          "mean": 33.10584318625107,
          "norm": 0.34074517870295273,
          "reliability_score": 0.8027102092579481
         },
         {
          "block_group": 530330060002,
          "mean": 29.627339872761386,
          "norm": 0.30494233790214487,
          "reliability_score": 0.8582761177119218
         },
         {
          "block_group": 530330060003,
          "mean": 38.47273283794248,
          "norm": 0.3959844234234768,
          "reliability_score": 0.7052620148182664
         },
         {
          "block_group": 530330060004,
          "mean": 36.4550265488713,
          "norm": 0.37521698106680057,
          "reliability_score": 0.7431406679160646
         },
         {
          "block_group": 530330061001,
          "mean": 20.251336636657907,
          "norm": 0.2084388934729644,
          "reliability_score": 0.9623127385088691
         },
         {
          "block_group": 530330061002,
          "mean": 21.403470424135474,
          "norm": 0.22029734489784142,
          "reliability_score": 0.9535501008597038
         },
         {
          "block_group": 530330061003,
          "mean": 19.021100739134194,
          "norm": 0.19577656832419435,
          "reliability_score": 0.9704358068792379
         },
         {
          "block_group": 530330061004,
          "mean": 23.724297198877252,
          "norm": 0.24418468495587714,
          "reliability_score": 0.9324194306852371
         },
         {
          "block_group": 530330062001,
          "mean": 17.49612297386923,
          "norm": 0.18008058323117482,
          "reliability_score": 0.9788099978591124
         },
         {
          "block_group": 530330062002,
          "mean": 21.79120690116118,
          "norm": 0.2242881610933536,
          "reliability_score": 0.9503449277756817
         },
         {
          "block_group": 530330062003,
          "mean": 26.045991810371472,
          "norm": 0.2680809573098714,
          "reliability_score": 0.9066350526847717
         },
         {
          "block_group": 530330063001,
          "mean": 43.621918125301235,
          "norm": 0.4489829243541024,
          "reliability_score": 0.605413923680995
         },
         {
          "block_group": 530330063002,
          "mean": 40.96568684412535,
          "norm": 0.42164340010490464,
          "reliability_score": 0.6572237611824976
         },
         {
          "block_group": 530330063003,
          "mean": 40.98369586959383,
          "norm": 0.42182875978799744,
          "reliability_score": 0.6568736302463851
         },
         {
          "block_group": 530330063004,
          "mean": 31.101953406530754,
          "norm": 0.32011994414087414,
          "reliability_score": 0.8356435559401794
         },
         {
          "block_group": 530330064001,
          "mean": 35.46191359303536,
          "norm": 0.36499526734379617,
          "reliability_score": 0.761301259177616
         },
         {
          "block_group": 530330064002,
          "mean": 34.16663654468418,
          "norm": 0.35166349969096217,
          "reliability_score": 0.7843875133156545
         },
         {
          "block_group": 530330064003,
          "mean": 38.48998352334702,
          "norm": 0.3961619778161515,
          "reliability_score": 0.70493349587889
         },
         {
          "block_group": 530330065001,
          "mean": 27.487088064779662,
          "norm": 0.2829135836222079,
          "reliability_score": 0.8883734022582936
         },
         {
          "block_group": 530330065002,
          "mean": 30.319310651401327,
          "norm": 0.31206451586022843,
          "reliability_score": 0.847837108661152
         },
         {
          "block_group": 530330065003,
          "mean": 34.209062508925,
          "norm": 0.35210017314119124,
          "reliability_score": 0.7836432188140379
         },
         {
          "block_group": 530330066001,
          "mean": 23.576198406460502,
          "norm": 0.2426603634273835,
          "reliability_score": 0.9339075078233438
         },
         {
          "block_group": 530330066002,
          "mean": 22.143841294867464,
          "norm": 0.22791768561034753,
          "reliability_score": 0.9473169595148377
         },
         {
          "block_group": 530330067001,
          "mean": 32.374107562647986,
          "norm": 0.33321371712907866,
          "reliability_score": 0.815005384130729
         },
         {
          "block_group": 530330067002,
          "mean": 24.73761937552258,
          "norm": 0.2546144040910199,
          "reliability_score": 0.9217300352266047
         },
         {
          "block_group": 530330067003,
          "mean": 29.48350879028414,
          "norm": 0.30346194220202566,
          "reliability_score": 0.8604041800127797
         },
         {
          "block_group": 530330067004,
          "mean": 31.9063002078172,
          "norm": 0.3283987634719982,
          "reliability_score": 0.8227073987028237
         },
         {
          "block_group": 530330068001,
          "mean": 46.1093775758507,
          "norm": 0.4745853477760146,
          "reliability_score": 0.5571169010974277
         },
         {
          "block_group": 530330068002,
          "mean": 53.047355999160864,
          "norm": 0.5459951797016929,
          "reliability_score": 0.4288688538224412
         },
         {
          "block_group": 530330069001,
          "mean": 55.453031788286125,
          "norm": 0.5707558366665422,
          "reliability_score": 0.38797481971486536
         },
         {
          "block_group": 530330069002,
          "mean": 58.076151860717744,
          "norm": 0.5977545605114982,
          "reliability_score": 0.346027102413653
         },
         {
          "block_group": 530330069003,
          "mean": 51.84629661999532,
          "norm": 0.5336331567656154,
          "reliability_score": 0.45007738331752556
         },
         {
          "block_group": 530330069004,
          "mean": 54.73581676518017,
          "norm": 0.5633738298153113,
          "reliability_score": 0.39993432279427177
         },
         {
          "block_group": 530330070001,
          "mean": 41.9515199130202,
          "norm": 0.43179018486860954,
          "reliability_score": 0.6380210064619682
         },
         {
          "block_group": 530330070002,
          "mean": 44.890205734492824,
          "norm": 0.46203690052409185,
          "reliability_score": 0.5807154789252154
         },
         {
          "block_group": 530330070003,
          "mean": 39.623971723753826,
          "norm": 0.4078336639840824,
          "reliability_score": 0.6832029771816834
         },
         {
          "block_group": 530330070004,
          "mean": 52.358691646007166,
          "norm": 0.5389070334562843,
          "reliability_score": 0.440968665234297
         },
         {
          "block_group": 530330070005,
          "mean": 45.44484037801618,
          "norm": 0.4677455326727725,
          "reliability_score": 0.569957586800989
         },
         {
          "block_group": 530330070006,
          "mean": 46.990633785802856,
          "norm": 0.48365576483362765,
          "reliability_score": 0.5401903379038031
         },
         {
          "block_group": 530330071001,
          "mean": 44.68343344259764,
          "norm": 0.45990867617540937,
          "reliability_score": 0.584734027306155
         },
         {
          "block_group": 530330071002,
          "mean": 40.685557580954466,
          "norm": 0.41876014184435895,
          "reliability_score": 0.6626659398232706
         },
         {
          "block_group": 530330072001,
          "mean": 26.984824521332037,
          "norm": 0.2777439862219787,
          "reliability_score": 0.8949281265412201
         },
         {
          "block_group": 530330072002,
          "mean": 29.51915845455481,
          "norm": 0.3038288699118643,
          "reliability_score": 0.8598780855089041
         },
         {
          "block_group": 530330072003,
          "mean": 35.03400506022115,
          "norm": 0.3605909762746337,
          "reliability_score": 0.7690081389140309
         },
         {
          "block_group": 530330073001,
          "mean": 19.938581655570868,
          "norm": 0.205219831770739,
          "reliability_score": 0.9644970640509053
         },
         {
          "block_group": 530330073002,
          "mean": 18.73355480512524,
          "norm": 0.19281697324250557,
          "reliability_score": 0.972155454147446
         },
         {
          "block_group": 530330073003,
          "mean": 21.8151224411865,
          "norm": 0.22453431416409275,
          "reliability_score": 0.9501429777719783
         },
         {
          "block_group": 530330074011,
          "mean": 28.1321395533011,
          "norm": 0.2895528401272386,
          "reliability_score": 0.8796650869712834
         },
         {
          "block_group": 530330074012,
          "mean": 33.66639860441267,
          "norm": 0.3465147510125838,
          "reliability_score": 0.7930981552354708
         },
         {
          "block_group": 530330074013,
          "mean": 21.11894071388387,
          "norm": 0.21736879459871333,
          "reliability_score": 0.9558196750625423
         },
         {
          "block_group": 530330074014,
          "mean": 25.249098338307835,
          "norm": 0.2598788521099558,
          "reliability_score": 0.9160007638413422
         },
         {
          "block_group": 530330074021,
          "mean": 24.928028456335873,
          "norm": 0.2565742084646277,
          "reliability_score": 0.9196231706867014
         },
         {
          "block_group": 530330074022,
          "mean": 23.899394382703253,
          "norm": 0.245986890109134,
          "reliability_score": 0.9306355891716184
         },
         {
          "block_group": 530330074023,
          "mean": 18.006888080805798,
          "norm": 0.18533768381789578,
          "reliability_score": 0.976207632420822
         },
         {
          "block_group": 530330075001,
          "mean": 38.21151673032802,
          "norm": 0.3932958306947423,
          "reliability_score": 0.7102280901136935
         },
         {
          "block_group": 530330075002,
          "mean": 38.32580305463397,
          "norm": 0.39447213403732284,
          "reliability_score": 0.7080573335060097
         },
         {
          "block_group": 530330075003,
          "mean": 39.18273747909101,
          "norm": 0.403292216702355,
          "reliability_score": 0.6916879304154286
         },
         {
          "block_group": 530330075004,
          "mean": 34.18037942041662,
          "norm": 0.3518049496042297,
          "reliability_score": 0.7841465097528678
         },
         {
          "block_group": 530330075005,
          "mean": 30.507320776755197,
          "norm": 0.31399962874653226,
          "reliability_score": 0.8449446073017555
         },
         {
          "block_group": 530330076001,
          "mean": 39.66274728081892,
          "norm": 0.408232765255937,
          "reliability_score": 0.682455718036907
         },
         {
          "block_group": 530330076002,
          "mean": 38.864997740841865,
          "norm": 0.40002184889200726,
          "reliability_score": 0.6977755434056161
         },
         {
          "block_group": 530330076003,
          "mean": 39.08619354301045,
          "norm": 0.40229852865256327,
          "reliability_score": 0.6935397280073352
         },
         {
          "block_group": 530330077001,
          "mean": 43.32064539101971,
          "norm": 0.4458820448174133,
          "reliability_score": 0.6112934517033425
         },
         {
          "block_group": 530330077002,
          "mean": 38.592744143753144,
          "norm": 0.39721965170673684,
          "reliability_score": 0.7029751477349698
         },
         {
          "block_group": 530330077003,
          "mean": 43.25441969361764,
          "norm": 0.44520041025009416,
          "reliability_score": 0.6125862290660249
         },
         {
          "block_group": 530330077004,
          "mean": 39.89257168213461,
          "norm": 0.41059825573011216,
          "reliability_score": 0.6780217607141741
         },
         {
          "block_group": 530330078001,
          "mean": 47.28128137913759,
          "norm": 0.4866472840519497,
          "reliability_score": 0.5346373044502517
         },
         {
          "block_group": 530330078002,
          "mean": 49.68231880818992,
          "norm": 0.5113602002351173,
          "reliability_score": 0.48946358146384283
         },
         {
          "block_group": 530330078003,
          "mean": 45.529048505604884,
          "norm": 0.46861225318860494,
          "reliability_score": 0.5683272860753732
         },
         {
          "block_group": 530330078004,
          "mean": 43.62039387834218,
          "norm": 0.44896723589090487,
          "reliability_score": 0.6054436626131743
         },
         {
          "block_group": 530330079001,
          "mean": 43.73173818176101,
          "norm": 0.4501132581913356,
          "reliability_score": 0.6032715169521612
         },
         {
          "block_group": 530330079002,
          "mean": 45.06578531303233,
          "norm": 0.46384407077284356,
          "reliability_score": 0.5773063441821982
         },
         {
          "block_group": 530330079003,
          "mean": 41.15463866840132,
          "norm": 0.4235882055208834,
          "reliability_score": 0.6535487173385136
         },
         {
          "block_group": 530330079004,
          "mean": 38.86948923315849,
          "norm": 0.40006807802272176,
          "reliability_score": 0.6976896316053464
         },
         {
          "block_group": 530330079005,
          "mean": 39.67531508301368,
          "norm": 0.40836212060812255,
          "reliability_score": 0.6822134662345596
         },
         {
          "block_group": 530330080011,
          "mean": 39.09546266898718,
          "norm": 0.4023939320521865,
          "reliability_score": 0.6933620158921701
         },
         {
          "block_group": 530330080012,
          "mean": 37.909580716616006,
          "norm": 0.3901881242886452,
          "reliability_score": 0.7159475688536403
         },
         {
          "block_group": 530330080013,
          "mean": 40.11839277983201,
          "norm": 0.41292254180423194,
          "reliability_score": 0.6736572969037615
         },
         {
          "block_group": 530330080014,
          "mean": 37.960874499186026,
          "norm": 0.39071607063968183,
          "reliability_score": 0.7149775564496279
         },
         {
          "block_group": 530330080015,
          "mean": 39.196346691352325,
          "norm": 0.40343229087107196,
          "reliability_score": 0.6914267508401275
         },
         {
          "block_group": 530330080021,
          "mean": 32.190786408404065,
          "norm": 0.331326865943581,
          "reliability_score": 0.8180387405234357
         },
         {
          "block_group": 530330080022,
          "mean": 21.537589666539834,
          "norm": 0.22167778051953727,
          "reliability_score": 0.9524561095655534
         },
         {
          "block_group": 530330081001,
          "mean": 30.27580828909574,
          "norm": 0.3116167634760217,
          "reliability_score": 0.8485030135848592
         },
         {
          "block_group": 530330081002,
          "mean": 26.36531462576148,
          "norm": 0.2713676190989053,
          "reliability_score": 0.9027339829342254
         },
         {
          "block_group": 530330081003,
          "mean": 31.493759399553333,
          "norm": 0.3241526462339237,
          "reliability_score": 0.829391864520432
         },
         {
          "block_group": 530330082001,
          "mean": 22.210363334733575,
          "norm": 0.2286023703119073,
          "reliability_score": 0.9467336632550651
         },
         {
          "block_group": 530330082002,
          "mean": 24.496946390423734,
          "norm": 0.25213725349089444,
          "reliability_score": 0.9243487652861768
         },
         {
          "block_group": 530330082003,
          "mean": 19.610613881999544,
          "norm": 0.2018441908911017,
          "reliability_score": 0.9666997820984685
         },
         {
          "block_group": 530330083001,
          "mean": 28.621583784149216,
          "norm": 0.29459049347946414,
          "reliability_score": 0.8728450983034157
         },
         {
          "block_group": 530330083002,
          "mean": 21.077672616810933,
          "norm": 0.21694403861129632,
          "reliability_score": 0.9561430763452532
         },
         {
          "block_group": 530330084001,
          "mean": 25.829512265188647,
          "norm": 0.26585282009270816,
          "reliability_score": 0.9092317713239145
         },
         {
          "block_group": 530330084002,
          "mean": 26.42756581681264,
          "norm": 0.27200834566490334,
          "reliability_score": 0.9019637200205598
         },
         {
          "block_group": 530330084003,
          "mean": 20.567583736743593,
          "norm": 0.2116938981567823,
          "reliability_score": 0.9600201505621696
         },
         {
          "block_group": 530330085001,
          "mean": 19.53641261973349,
          "norm": 0.20108046703037455,
          "reliability_score": 0.9671857478478424
         },
         {
          "block_group": 530330085002,
          "mean": 26.536670994122947,
          "norm": 0.2731313215374967,
          "reliability_score": 0.9006060701489769
         },
         {
          "block_group": 530330085003,
          "mean": 17.237841792489718,
          "norm": 0.17742219852217814,
          "reliability_score": 0.9800506813219603
         },
         {
          "block_group": 530330086001,
          "mean": 39.94729399319438,
          "norm": 0.4111614905511133,
          "reliability_score": 0.6769648183196346
         },
         {
          "block_group": 530330086002,
          "mean": 30.338267584866294,
          "norm": 0.3122596319805109,
          "reliability_score": 0.8475465308032684
         },
         {
          "block_group": 530330086003,
          "mean": 35.578915808758204,
          "norm": 0.36619952426849756,
          "reliability_score": 0.7591810719665291
         },
         {
          "block_group": 530330087001,
          "mean": 43.53302914941652,
          "norm": 0.4480680257423329,
          "reliability_score": 0.6071483425242541
         },
         {
          "block_group": 530330087002,
          "mean": 48.716251008420265,
          "norm": 0.5014168514667527,
          "reliability_score": 0.5074755750678678
         },
         {
          "block_group": 530330087003,
          "mean": 44.47847918732757,
          "norm": 0.4577991641492383,
          "reliability_score": 0.5887208964216302
         },
         {
          "block_group": 530330088001,
          "mean": 43.97455341104497,
          "norm": 0.4526124580524804,
          "reliability_score": 0.5985365491388457
         },
         {
          "block_group": 530330088002,
          "mean": 50.14185931424565,
          "norm": 0.516090066530208,
          "reliability_score": 0.4809831054756679
         },
         {
          "block_group": 530330088003,
          "mean": 53.66344524649953,
          "norm": 0.5523363394631384,
          "reliability_score": 0.4181878720258341
         },
         {
          "block_group": 530330089001,
          "mean": 54.66664238856082,
          "norm": 0.5626618456743178,
          "reliability_score": 0.4010984928351694
         },
         {
          "block_group": 530330089002,
          "mean": 48.38186026776782,
          "norm": 0.49797510156057456,
          "reliability_score": 0.5137642396973663
         },
         {
          "block_group": 530330089003,
          "mean": 49.352993532965165,
          "norm": 0.5079705871349,
          "reliability_score": 0.49557657727935345
         },
         {
          "block_group": 530330089004,
          "mean": 44.047719205603315,
          "norm": 0.4533655242589947,
          "reliability_score": 0.5971103978885905
         },
         {
          "block_group": 530330090001,
          "mean": 38.885210848337714,
          "norm": 0.40022989430825195,
          "reliability_score": 0.6973888809064342
         },
         {
          "block_group": 530330090002,
          "mean": 38.140948945662295,
          "norm": 0.3925695047630536,
          "reliability_score": 0.7115668753398567
         },
         {
          "block_group": 530330091001,
          "mean": 36.15386434006229,
          "norm": 0.3721172391245135,
          "reliability_score": 0.7486861373257745
         },
         {
          "block_group": 530330091002,
          "mean": 36.88379379651521,
          "norm": 0.3796301105436257,
          "reliability_score": 0.7351922997895197
         },
         {
          "block_group": 530330092001,
          "mean": 30.958410067294498,
          "norm": 0.31864251006663824,
          "reliability_score": 0.837909735093572
         },
         {
          "block_group": 530330092002,
          "mean": 30.214751302977817,
          "norm": 0.31098832838289425,
          "reliability_score": 0.8494354816132246
         },
         {
          "block_group": 530330093001,
          "mean": 27.129177114963593,
          "norm": 0.27922974962744446,
          "reliability_score": 0.8930648124613992
         },
         {
          "block_group": 530330093002,
          "mean": 22.58224429157504,
          "norm": 0.23242999199132722,
          "reliability_score": 0.9434020405883352
         },
         {
          "block_group": 530330093003,
          "mean": 25.885750358386417,
          "norm": 0.26643165625189547,
          "reliability_score": 0.908560925961493
         },
         {
          "block_group": 530330094001,
          "mean": 39.87879014943921,
          "norm": 0.4104564079362144,
          "reliability_score": 0.6782878755774362
         },
         {
          "block_group": 530330094002,
          "mean": 28.96123205318309,
          "norm": 0.2980863570186281,
          "reliability_score": 0.868007273467796
         },
         {
          "block_group": 530330094003,
          "mean": 37.8000920497588,
          "norm": 0.3890612013118065,
          "reliability_score": 0.7180158005791859
         },
         {
          "block_group": 530330094004,
          "mean": 41.402041605040736,
          "norm": 0.42613462481558495,
          "reliability_score": 0.6487323722954839
         },
         {
          "block_group": 530330094005,
          "mean": 32.61710138611975,
          "norm": 0.33571475518863747,
          "reliability_score": 0.810955205774301
         },
         {
          "block_group": 530330095001,
          "mean": 51.33135955783221,
          "norm": 0.5283331159154124,
          "reliability_score": 0.45931884041031756
         },
         {
          "block_group": 530330095002,
          "mean": 43.38932526508086,
          "norm": 0.4465889392417179,
          "reliability_score": 0.6099528797636651
         },
         {
          "block_group": 530330095003,
          "mean": 58.67772927536139,
          "norm": 0.6039463557937746,
          "reliability_score": 0.3368188360907234
         },
         {
          "block_group": 530330095004,
          "mean": 52.54878741790916,
          "norm": 0.5408636130668083,
          "reliability_score": 0.43761212176091946
         },
         {
          "block_group": 530330096001,
          "mean": 55.048995750044774,
          "norm": 0.5665972556185247,
          "reliability_score": 0.39468708707186795
         },
         {
          "block_group": 530330096002,
          "mean": 60.351497487047354,
          "norm": 0.621173781332814,
          "reliability_score": 0.3120342787466983
         },
         {
          "block_group": 530330096003,
          "mean": 59.35579358831673,
          "norm": 0.6109254000727621,
          "reliability_score": 0.32662921400736034
         },
         {
          "block_group": 530330096004,
          "mean": 63.354275513416404,
          "norm": 0.6520801723721261,
          "reliability_score": 0.27070993626516504
         },
         {
          "block_group": 530330096005,
          "mean": 62.35205867914909,
          "norm": 0.6417647560762696,
          "reliability_score": 0.28405075327735374
         },
         {
          "block_group": 530330097011,
          "mean": 64.89027510564723,
          "norm": 0.6678896007137585,
          "reliability_score": 0.2511428771268116
         },
         {
          "block_group": 530330097012,
          "mean": 67.39974876345885,
          "norm": 0.6937186075501254,
          "reliability_score": 0.22144446504591497
         },
         {
          "block_group": 530330097013,
          "mean": 68.14261648823113,
          "norm": 0.7013646473808013,
          "reliability_score": 0.21318529190956392
         },
         {
          "block_group": 530330097014,
          "mean": 66.48602145635287,
          "norm": 0.6843139785003842,
          "reliability_score": 0.23193474157547356
         },
         {
          "block_group": 530330097021,
          "mean": 67.53181283480626,
          "norm": 0.6950778901196206,
          "reliability_score": 0.219958596111258
         },
         {
          "block_group": 530330097022,
          "mean": 65.45273686559601,
          "norm": 0.673678794235551,
          "reliability_score": 0.24424283391230328
         },
         {
          "block_group": 530330097023,
          "mean": 63.8510730522728,
          "norm": 0.6571935103772766,
          "reliability_score": 0.2642649722267223
         },
         {
          "block_group": 530330097024,
          "mean": 72.71237194911883,
          "norm": 0.7483993092798721,
          "reliability_score": 0.16752418777204536
         },
         {
          "block_group": 530330097025,
          "mean": 61.183951573743244,
          "norm": 0.6297418976903214,
          "reliability_score": 0.3001715665220617
         },
         {
          "block_group": 530330098001,
          "mean": 53.813516376863106,
          "norm": 0.5538809614758207,
          "reliability_score": 0.4156072493089136
         },
         {
          "block_group": 530330098002,
          "mean": 54.30831114310171,
          "norm": 0.5589736857449092,
          "reliability_score": 0.40715866042211446
         },
         {
          "block_group": 530330098003,
          "mean": 43.959777235673826,
          "norm": 0.45246037280006557,
          "reliability_score": 0.5988246032360613
         },
         {
          "block_group": 530330098004,
          "mean": 51.75157672196055,
          "norm": 0.5326582428085533,
          "reliability_score": 0.45177080973608186
         },
         {
          "block_group": 530330098005,
          "mean": 68.10477322547924,
          "norm": 0.7009751418407506,
          "reliability_score": 0.21360023055925914
         },
         {
          "block_group": 530330099001,
          "mean": 42.00242955491617,
          "norm": 0.43231417741360983,
          "reliability_score": 0.637027809013612
         },
         {
          "block_group": 530330099002,
          "mean": 29.362703248842077,
          "norm": 0.30221853916965463,
          "reliability_score": 0.8621802362270454
         },
         {
          "block_group": 530330099003,
          "mean": 40.37977566905141,
          "norm": 0.4156128511491982,
          "reliability_score": 0.6685967665355039
         },
         {
          "block_group": 530330099004,
          "mean": 24.87059155739241,
          "norm": 0.25598303347825063,
          "reliability_score": 0.9202619602208304
         },
         {
          "block_group": 530330100011,
          "mean": 33.419120766393156,
          "norm": 0.343969619307851,
          "reliability_score": 0.7973582486346927
         },
         {
          "block_group": 530330100012,
          "mean": 26.219449152576683,
          "norm": 0.2698662842303952,
          "reliability_score": 0.9045263948111253
         },
         {
          "block_group": 530330100013,
          "mean": 43.77618913594217,
          "norm": 0.4505707740516253,
          "reliability_score": 0.6024044987111934
         },
         {
          "block_group": 530330100021,
          "mean": 26.50103538042649,
          "norm": 0.2727645384445884,
          "reliability_score": 0.9010505701762106
         },
         {
          "block_group": 530330100022,
          "mean": 35.394200109160515,
          "norm": 0.36429831958645537,
          "reliability_score": 0.7625257993749051
         },
         {
          "block_group": 530330100023,
          "mean": 36.707068916961305,
          "norm": 0.37781115217044464,
          "reliability_score": 0.738475719262568
         },
         {
          "block_group": 530330100024,
          "mean": 31.758388261246896,
          "norm": 0.3268763650729346,
          "reliability_score": 0.825115846967398
         },
         {
          "block_group": 530330101001,
          "mean": 77.46818125000141,
          "norm": 0.7973489488039125,
          "reliability_score": 0.12875617706451692
         },
         {
          "block_group": 530330101002,
          "mean": 71.03454958517794,
          "norm": 0.7311301559761351,
          "reliability_score": 0.183283397602371
         },
         {
          "block_group": 530330101003,
          "mean": 52.74420122917463,
          "norm": 0.54287492912561,
          "reliability_score": 0.4341747619667704
         },
         {
          "block_group": 530330101004,
          "mean": 53.72346415792022,
          "norm": 0.5529540900693545,
          "reliability_score": 0.41715478220826596
         },
         {
          "block_group": 530330101005,
          "mean": 74.43105729124807,
          "norm": 0.7660890488446745,
          "reliability_score": 0.15253668395186015
         },
         {
          "block_group": 530330102001,
          "mean": 85.76309816718754,
          "norm": 0.8827252049340256,
          "reliability_score": 0.07918734999337684
         },
         {
          "block_group": 530330102002,
          "mean": 85.35126618367057,
          "norm": 0.8784863833450514,
          "reliability_score": 0.08118257680576546
         },
         {
          "block_group": 530330102003,
          "mean": 73.87720879717781,
          "norm": 0.7603885082173116,
          "reliability_score": 0.1572416729073578
         },
         {
          "block_group": 530330102004,
          "mean": 80.29988511599882,
          "norm": 0.8264945420583942,
          "reliability_score": 0.10947082502622685
         },
         {
          "block_group": 530330103001,
          "mean": 72.37777110413374,
          "norm": 0.7449553968539849,
          "reliability_score": 0.17057655502773805
         },
         {
          "block_group": 530330103002,
          "mean": 70.6929393681076,
          "norm": 0.7276140988919666,
          "reliability_score": 0.18663256046794863
         },
         {
          "block_group": 530330103003,
          "mean": 62.6670166691349,
          "norm": 0.6450064924663643,
          "reliability_score": 0.27980938996431637
         },
         {
          "block_group": 530330103004,
          "mean": 59.245731001627796,
          "norm": 0.6097925699690598,
          "reliability_score": 0.3282694460574298
         },
         {
          "block_group": 530330103005,
          "mean": 70.50413009516326,
          "norm": 0.7256707606997252,
          "reliability_score": 0.18850437871161851
         },
         {
          "block_group": 530330104011,
          "mean": 49.760868776784555,
          "norm": 0.5121686835875972,
          "reliability_score": 0.488009845015156
         },
         {
          "block_group": 530330104012,
          "mean": 40.727602527504374,
          "norm": 0.41919289363216583,
          "reliability_score": 0.6618496287258921
         },
         {
          "block_group": 530330104013,
          "mean": 38.08074494710212,
          "norm": 0.39194984912907355,
          "reliability_score": 0.7127080707505071
         },
         {
          "block_group": 530330104021,
          "mean": 29.83182429278774,
          "norm": 0.30704701410241114,
          "reliability_score": 0.8552256548783537
         },
         {
          "block_group": 530330104022,
          "mean": 31.749482613545947,
          "norm": 0.3267847028095615,
          "reliability_score": 0.8252604392783514
         },
         {
          "block_group": 530330104023,
          "mean": 34.01464613881959,
          "norm": 0.3500991233445844,
          "reliability_score": 0.7870469335851332
         },
         {
          "block_group": 530330104024,
          "mean": 31.739223436573486,
          "norm": 0.32667910921174376,
          "reliability_score": 0.8254269483622627
         },
         {
          "block_group": 530330105001,
          "mean": 50.257115270703885,
          "norm": 0.5172763499080091,
          "reliability_score": 0.4788655032497555
         },
         {
          "block_group": 530330105002,
          "mean": 57.223823585859726,
          "norm": 0.5889818870986462,
          "reliability_score": 0.35934047469968355
         },
         {
          "block_group": 530330105003,
          "mean": 70.57234410844818,
          "norm": 0.7263728602057263,
          "reliability_score": 0.18782641077431095
         },
         {
          "block_group": 530330105004,
          "mean": 60.21963672666698,
          "norm": 0.6198165913616376,
          "reliability_score": 0.3139417646287199
         },
         {
          "block_group": 530330105005,
          "mean": 67.26573007211464,
          "norm": 0.6923392068602018,
          "reliability_score": 0.22296013049190921
         },
         {
          "block_group": 530330106001,
          "mean": 61.269911757884245,
          "norm": 0.6306266514222133,
          "reliability_score": 0.29896431010304303
         },
         {
          "block_group": 530330106002,
          "mean": 66.3451079900748,
          "norm": 0.6828636126547405,
          "reliability_score": 0.23358531897774526
         },
         {
          "block_group": 530330106003,
          "mean": 73.6055100202685,
          "norm": 0.7575920215738364,
          "reliability_score": 0.15959281809405856
         },
         {
          "block_group": 530330106004,
          "mean": 75.36201049502549,
          "norm": 0.7756709771465934,
          "reliability_score": 0.14488928384448818
         },
         {
          "block_group": 530330106005,
          "mean": 81.63826711656172,
          "norm": 0.8402699717125774,
          "reliability_score": 0.10125114948101088
         },
         {
          "block_group": 530330106006,
          "mean": 70.67829176817467,
          "norm": 0.7274633370150183,
          "reliability_score": 0.1867772447635061
         },
         {
          "block_group": 530330107011,
          "mean": 45.0036959029659,
          "norm": 0.46320500935369713,
          "reliability_score": 0.5785115494727007
         },
         {
          "block_group": 530330107012,
          "mean": 68.8793984225011,
          "norm": 0.7089480486083584,
          "reliability_score": 0.20522992440182386
         },
         {
          "block_group": 530330107021,
          "mean": 53.331182550894326,
          "norm": 0.548916492671943,
          "reliability_score": 0.4239310512280773
         },
         {
          "block_group": 530330107022,
          "mean": 54.37890043198935,
          "norm": 0.5597002330109375,
          "reliability_score": 0.4059609322656512
         },
         {
          "block_group": 530330107023,
          "mean": 60.50132727603689,
          "norm": 0.6227159193154366,
          "reliability_score": 0.3098762730841085
         },
         {
          "block_group": 530330108001,
          "mean": 47.014663178245065,
          "norm": 0.48390308974167423,
          "reliability_score": 0.539730646671791
         },
         {
          "block_group": 530330108002,
          "mean": 49.44716365019643,
          "norm": 0.5089398424184437,
          "reliability_score": 0.49382562213710157
         },
         {
          "block_group": 530330108003,
          "mean": 38.93011044349877,
          "norm": 0.4006920278503814,
          "reliability_score": 0.6965296834500215
         },
         {
          "block_group": 530330109001,
          "mean": 36.81446953040522,
          "norm": 0.37891658365016456,
          "reliability_score": 0.7364814961387991
         },
         {
          "block_group": 530330109002,
          "mean": 32.6904828909826,
          "norm": 0.33647004161488286,
          "reliability_score": 0.8097256005995341
         },
         {
          "block_group": 530330110011,
          "mean": 51.587421831708944,
          "norm": 0.5309686622985793,
          "reliability_score": 0.4547125862898339
         },
         {
          "block_group": 530330110012,
          "mean": 49.81139749956073,
          "norm": 0.5126887554847283,
          "reliability_score": 0.48707559710169146
         },
         {
          "block_group": 530330110013,
          "mean": 47.19237768207244,
          "norm": 0.48573223392096865,
          "reliability_score": 0.5363341963408802
         },
         {
          "block_group": 530330110021,
          "mean": 19.806007723867307,
          "norm": 0.20385530141289435,
          "reliability_score": 0.9653982498758689
         },
         {
          "block_group": 530330110022,
          "mean": 37.84000388266596,
          "norm": 0.389471997815608,
          "reliability_score": 0.7172622352540667
         },
         {
          "block_group": 530330110023,
          "mean": 30.566044677822706,
          "norm": 0.314604050330082,
          "reliability_score": 0.8440363340098603
         },
         {
          "block_group": 530330111011,
          "mean": 76.63740116524754,
          "norm": 0.7887980622776367,
          "reliability_score": 0.13493054037298025
         },
         {
          "block_group": 530330111012,
          "mean": 61.62277015457039,
          "norm": 0.634258481512123,
          "reliability_score": 0.29404344989461784
         },
         {
          "block_group": 530330111013,
          "mean": 68.8148937683728,
          "norm": 0.7082841280498496,
          "reliability_score": 0.2059170838033536
         },
         {
          "block_group": 530330111014,
          "mean": 62.47965839232463,
          "norm": 0.6430780887959299,
          "reliability_score": 0.282327043648017
         },
         {
          "block_group": 530330111021,
          "mean": 85.78402932806729,
          "norm": 0.8829406409860333,
          "reliability_score": 0.07908710607070724
         },
         {
          "block_group": 530330111022,
          "mean": 75.44902080449857,
          "norm": 0.7765665393977527,
          "reliability_score": 0.1441910218487359
         },
         {
          "block_group": 530330111023,
          "mean": 82.94485625545667,
          "norm": 0.8537181701807256,
          "reliability_score": 0.09374597241598104
         },
         {
          "block_group": 530330111024,
          "mean": 80.1054072035666,
          "norm": 0.824492858831277,
          "reliability_score": 0.11071157494691808
         },
         {
          "block_group": 530330112001,
          "mean": 58.323474221404744,
          "norm": 0.6003001504702076,
          "reliability_score": 0.34222236027770336
         },
         {
          "block_group": 530330112002,
          "mean": 45.19310238736223,
          "norm": 0.4651544944041165,
          "reliability_score": 0.5748362731065795
         },
         {
          "block_group": 530330112003,
          "mean": 58.66648300726893,
          "norm": 0.6038306024625771,
          "reliability_score": 0.3369895376142873
         },
         {
          "block_group": 530330113001,
          "mean": 65.03542135152735,
          "norm": 0.6693835328638094,
          "reliability_score": 0.2493487208579912
         },
         {
          "block_group": 530330113002,
          "mean": 77.11458332450569,
          "norm": 0.7937095070402884,
          "reliability_score": 0.13135450017701356
         },
         {
          "block_group": 530330113003,
          "mean": 85.75105907765972,
          "norm": 0.8826012914094705,
          "reliability_score": 0.07924505849461794
         },
         {
          "block_group": 530330113004,
          "mean": 77.66739023268623,
          "norm": 0.7993993270414426,
          "reliability_score": 0.1273114658431852
         },
         {
          "block_group": 530330113005,
          "mean": 67.06002738325456,
          "norm": 0.6902219915069794,
          "reliability_score": 0.22530182154324863
         },
         {
          "block_group": 530330114011,
          "mean": 70.45483894142427,
          "norm": 0.7251634266048111,
          "reliability_score": 0.18899547958670027
         },
         {
          "block_group": 530330114012,
          "mean": 86.4538350496971,
          "norm": 0.8898346828936503,
          "reliability_score": 0.0759377332878749
         },
         {
          "block_group": 530330114013,
          "mean": 73.0089565676025,
          "norm": 0.7514519359191396,
          "reliability_score": 0.1648557096682537
         },
         {
          "block_group": 530330114021,
          "mean": 99.7553401680391,
          "norm": 1.0267417452834706,
          "reliability_score": 0.03263878391659403
         },
         {
          "block_group": 530330114022,
          "mean": 93.81573498211087,
          "norm": 0.9656077690510022,
          "reliability_score": 0.04798890009836332
         },
         {
          "block_group": 530330114023,
          "mean": 106.42322427038134,
          "norm": 1.0953716045877875,
          "reliability_score": 0.020869712972688803
         },
         {
          "block_group": 530330115001,
          "mean": 70.23158752825434,
          "norm": 0.7228655892638831,
          "reliability_score": 0.19123247094370244
         },
         {
          "block_group": 530330115002,
          "mean": 82.42118061336316,
          "norm": 0.8483281866287694,
          "reliability_score": 0.0966940287405893
         },
         {
          "block_group": 530330115003,
          "mean": 68.66865508192383,
          "norm": 0.7067789518467547,
          "reliability_score": 0.20748155463953832
         },
         {
          "block_group": 530330116001,
          "mean": 78.26999563387008,
          "norm": 0.8056017029772723,
          "reliability_score": 0.12302411483168485
         },
         {
          "block_group": 530330116002,
          "mean": 74.38028277594273,
          "norm": 0.7655664471035276,
          "reliability_score": 0.15296314943568434
         },
         {
          "block_group": 530330116003,
          "mean": 94.4238655393951,
          "norm": 0.9718670132046928,
          "reliability_score": 0.04615931521501948
         },
         {
          "block_group": 530330116004,
          "mean": 97.67954401715996,
          "norm": 1.0053764072552893,
          "reliability_score": 0.03739971281790622
         },
         {
          "block_group": 530330116005,
          "mean": 90.81819236738338,
          "norm": 0.9347552640059343,
          "reliability_score": 0.058002272663723486
         },
         {
          "block_group": 530330116006,
          "mean": 79.86192434768772,
          "norm": 0.8219867873571025,
          "reliability_score": 0.11228190894608248
         },
         {
          "block_group": 530330117001,
          "mean": 51.19845710992551,
          "norm": 0.5269652042719225,
          "reliability_score": 0.46171785013431055
         },
         {
          "block_group": 530330117002,
          "mean": 50.58832470424711,
          "norm": 0.5206853558948332,
          "reliability_score": 0.47280171504192026
         },
         {
          "block_group": 530330117003,
          "mean": 55.238640786208016,
          "norm": 0.5685491959866953,
          "reliability_score": 0.3915284198227723
         },
         {
          "block_group": 530330117004,
          "mean": 53.56223580448858,
          "norm": 0.5512946312302314,
          "reliability_score": 0.41993298413423885
         },
         {
          "block_group": 530330118001,
          "mean": 97.02902748531889,
          "norm": 0.9986809012491634,
          "reliability_score": 0.03901785612500186
         },
         {
          "block_group": 530330118002,
          "mean": 73.29470921756702,
          "norm": 0.7543930734467118,
          "reliability_score": 0.16231741602738992
         },
         {
          "block_group": 530330118003,
          "mean": 71.09590938773817,
          "norm": 0.7317617078375674,
          "reliability_score": 0.18268691896558809
         },
         {
          "block_group": 530330118004,
          "mean": 86.3135511448004,
          "norm": 0.8883907968710455,
          "reliability_score": 0.07658802062414116
         },
         {
          "block_group": 530330118005,
          "mean": 84.39882838176425,
          "norm": 0.8686833226832766,
          "reliability_score": 0.08596688102508532
         },
         {
          "block_group": 530330118006,
          "mean": 102.42372050333866,
          "norm": 1.0542063148787468,
          "reliability_score": 0.027338354917300633
         },
         {
          "block_group": 530330119001,
          "mean": 68.08644163702216,
          "norm": 0.7007864621460643,
          "reliability_score": 0.21380145343921275
         },
         {
          "block_group": 530330119002,
          "mean": 63.16144735395182,
          "norm": 0.6500954693912635,
          "reliability_score": 0.27324150147327675
         },
         {
          "block_group": 530330119003,
          "mean": 50.34223025557102,
          "norm": 0.5181524043424388,
          "reliability_score": 0.4773041462278649
         },
         {
          "block_group": 530330119004,
          "mean": 49.21278790960391,
          "norm": 0.5065275068327728,
          "reliability_score": 0.4981877965692273
         },
         {
          "block_group": 530330119005,
          "mean": 54.36460173685275,
          "norm": 0.5595530622712548,
          "reliability_score": 0.40620339208947187
         },
         {
          "block_group": 530330120001,
          "mean": 98.47363769571018,
          "norm": 1.0135496953024234,
          "reliability_score": 0.03550783580172623
         },
         {
          "block_group": 530330120002,
          "mean": 101.26456680344862,
          "norm": 1.042275610308224,
          "reliability_score": 0.029534728168068347
         },
         {
          "block_group": 530330120003,
          "mean": 98.98706553057232,
          "norm": 1.0188342022807513,
          "reliability_score": 0.03433180895797672
         },
         {
          "block_group": 530330121001,
          "mean": 95.60314910901876,
          "norm": 0.9840049064585265,
          "reliability_score": 0.04279085207264943
         },
         {
          "block_group": 530330121002,
          "mean": 104.3999388925475,
          "norm": 1.0745467389059677,
          "reliability_score": 0.023939361678361415
         },
         {
          "block_group": 530330260011,
          "mean": 78.58049554995505,
          "norm": 0.8087975541990157,
          "reliability_score": 0.12086306048144002
         },
         {
          "block_group": 530330264004,
          "mean": 63.35628798807105,
          "norm": 0.6521008859673659,
          "reliability_score": 0.2706836037676186
         },
         {
          "block_group": 530330264005,
          "mean": 67.42517688995892,
          "norm": 0.6939803290673695,
          "reliability_score": 0.22115777703860084
         },
         {
          "block_group": 530330265001,
          "mean": 60.62680028475755,
          "norm": 0.624007362718294,
          "reliability_score": 0.30807679755651907
         }
        ]
       },
       "encoding": {
        "x": {
         "bin": {
          "maxbins": 50
         },
         "field": "reliability_score",
         "type": "quantitative"
        },
        "y": {
         "aggregate": "count",
         "type": "quantitative"
        }
       },
       "mark": "bar"
      },
      "image/png": "[encoded data removed]",
      "text/plain": [
       "<VegaLite 2 object>\n",
       "\n",
       "If you see this message, it means the renderer has not been properly enabled\n",
       "for the frontend that you are using. For more information, see\n",
       "https://altair-viz.github.io/user_guide/troubleshooting.html\n"
      ]
     },
     "execution_count": 63,
     "metadata": {},
     "output_type": "execute_result"
    }
   ],
   "source": [
    "#final reliability index score!\n",
    "alt.Chart(df_var).mark_bar().encode(\n",
    "    alt.X('reliability_score:Q', bin=alt.BinParams(maxbins=50)),\n",
    "    y='count()'\n",
    ")"
   ]
  },
  {
   "cell_type": "code",
   "execution_count": null,
   "metadata": {},
   "outputs": [],
   "source": []
  },
  {
   "cell_type": "code",
   "execution_count": null,
   "metadata": {},
   "outputs": [],
   "source": []
  },
  {
   "cell_type": "code",
   "execution_count": null,
   "metadata": {},
   "outputs": [],
   "source": []
  },
  {
   "cell_type": "code",
   "execution_count": 69,
   "metadata": {},
   "outputs": [
    {
     "data": {
      "text/html": [
       "<div>\n",
       "<style scoped>\n",
       "    .dataframe tbody tr th:only-of-type {\n",
       "        vertical-align: middle;\n",
       "    }\n",
       "\n",
       "    .dataframe tbody tr th {\n",
       "        vertical-align: top;\n",
       "    }\n",
       "\n",
       "    .dataframe thead th {\n",
       "        text-align: right;\n",
       "    }\n",
       "</style>\n",
       "<table border=\"1\" class=\"dataframe\">\n",
       "  <thead>\n",
       "    <tr style=\"text-align: right;\">\n",
       "      <th></th>\n",
       "      <th>Unnamed: 0</th>\n",
       "      <th>block_group</th>\n",
       "      <th>lat</th>\n",
       "      <th>lon</th>\n",
       "      <th>departure_time</th>\n",
       "      <th>distance</th>\n",
       "      <th>duration</th>\n",
       "      <th>duration_in_traffic</th>\n",
       "      <th>class</th>\n",
       "      <th>destination</th>\n",
       "      <th>time</th>\n",
       "      <th>simulated_traffic_time</th>\n",
       "    </tr>\n",
       "  </thead>\n",
       "  <tbody>\n",
       "    <tr>\n",
       "      <th>0</th>\n",
       "      <td>120076</td>\n",
       "      <td>530330001001</td>\n",
       "      <td>47.54841</td>\n",
       "      <td>-122.352194</td>\n",
       "      <td>2018-07-25 07:00:00-07:00</td>\n",
       "      <td>15.624612</td>\n",
       "      <td>28.933333</td>\n",
       "      <td>31.983333</td>\n",
       "      <td>citywide</td>\n",
       "      <td>-74.803784</td>\n",
       "      <td>7</td>\n",
       "      <td>30.686239</td>\n",
       "    </tr>\n",
       "    <tr>\n",
       "      <th>1</th>\n",
       "      <td>25460</td>\n",
       "      <td>530330001001</td>\n",
       "      <td>47.54841</td>\n",
       "      <td>-122.352194</td>\n",
       "      <td>2018-07-25 08:00:00-07:00</td>\n",
       "      <td>15.565569</td>\n",
       "      <td>28.400000</td>\n",
       "      <td>39.250000</td>\n",
       "      <td>citywide</td>\n",
       "      <td>-74.803784</td>\n",
       "      <td>8</td>\n",
       "      <td>32.675034</td>\n",
       "    </tr>\n",
       "    <tr>\n",
       "      <th>2</th>\n",
       "      <td>89121</td>\n",
       "      <td>530330001001</td>\n",
       "      <td>47.54841</td>\n",
       "      <td>-122.352194</td>\n",
       "      <td>2018-07-25 09:00:00-07:00</td>\n",
       "      <td>15.624612</td>\n",
       "      <td>28.933333</td>\n",
       "      <td>35.900000</td>\n",
       "      <td>citywide</td>\n",
       "      <td>-74.803784</td>\n",
       "      <td>9</td>\n",
       "      <td>31.199236</td>\n",
       "    </tr>\n",
       "    <tr>\n",
       "      <th>3</th>\n",
       "      <td>156230</td>\n",
       "      <td>530330001001</td>\n",
       "      <td>47.54841</td>\n",
       "      <td>-122.352194</td>\n",
       "      <td>2018-07-25 10:00:00-07:00</td>\n",
       "      <td>15.624612</td>\n",
       "      <td>28.933333</td>\n",
       "      <td>29.833333</td>\n",
       "      <td>citywide</td>\n",
       "      <td>-74.803784</td>\n",
       "      <td>10</td>\n",
       "      <td>31.786378</td>\n",
       "    </tr>\n",
       "    <tr>\n",
       "      <th>4</th>\n",
       "      <td>77191</td>\n",
       "      <td>530330001001</td>\n",
       "      <td>47.54841</td>\n",
       "      <td>-122.352194</td>\n",
       "      <td>2018-07-25 11:00:00-07:00</td>\n",
       "      <td>15.624612</td>\n",
       "      <td>28.933333</td>\n",
       "      <td>30.650000</td>\n",
       "      <td>citywide</td>\n",
       "      <td>-74.803784</td>\n",
       "      <td>11</td>\n",
       "      <td>34.205688</td>\n",
       "    </tr>\n",
       "  </tbody>\n",
       "</table>\n",
       "</div>"
      ],
      "text/plain": [
       "   Unnamed: 0   block_group       lat         lon             departure_time  \\\n",
       "0      120076  530330001001  47.54841 -122.352194  2018-07-25 07:00:00-07:00   \n",
       "1       25460  530330001001  47.54841 -122.352194  2018-07-25 08:00:00-07:00   \n",
       "2       89121  530330001001  47.54841 -122.352194  2018-07-25 09:00:00-07:00   \n",
       "3      156230  530330001001  47.54841 -122.352194  2018-07-25 10:00:00-07:00   \n",
       "4       77191  530330001001  47.54841 -122.352194  2018-07-25 11:00:00-07:00   \n",
       "\n",
       "    distance   duration  duration_in_traffic     class  destination  time  \\\n",
       "0  15.624612  28.933333            31.983333  citywide   -74.803784     7   \n",
       "1  15.565569  28.400000            39.250000  citywide   -74.803784     8   \n",
       "2  15.624612  28.933333            35.900000  citywide   -74.803784     9   \n",
       "3  15.624612  28.933333            29.833333  citywide   -74.803784    10   \n",
       "4  15.624612  28.933333            30.650000  citywide   -74.803784    11   \n",
       "\n",
       "   simulated_traffic_time  \n",
       "0               30.686239  \n",
       "1               32.675034  \n",
       "2               31.199236  \n",
       "3               31.786378  \n",
       "4               34.205688  "
      ]
     },
     "execution_count": 69,
     "metadata": {},
     "output_type": "execute_result"
    }
   ],
   "source": [
    "###\n",
    "#Calculating buffer index\n",
    "sim_data.head()"
   ]
  },
  {
   "cell_type": "code",
   "execution_count": 81,
   "metadata": {},
   "outputs": [],
   "source": [
    "#check quantile calculation separately to make sure groupby + qunatile is working correctly\n",
    "#not sure about the length of xx - TODO\n",
    "xx = sim_data[(sim_data['block_group']== 530330001001) & (sim_data['time']==7)]\n",
    "xx['simulated_traffic_time'].quantile(0.95)"
   ]
  },
  {
   "cell_type": "code",
   "execution_count": 90,
   "metadata": {},
   "outputs": [],
   "source": [
    "df_buf = sim_data"
   ]
  },
  {
   "cell_type": "code",
   "execution_count": 100,
   "metadata": {},
   "outputs": [],
   "source": [
    "#calculate 95h quantile for every blockgroup at every hour\n",
    "quant = df_buf.groupby(['block_group', 'time'])['simulated_traffic_time'].quantile(0.95)\n",
    "quant_df = quant.to_frame('95th').reset_index()"
   ]
  },
  {
   "cell_type": "code",
   "execution_count": 102,
   "metadata": {},
   "outputs": [],
   "source": [
    "#calculate mean for every blockgroup at every hour\n",
    "mean = df_buf.groupby(['block_group', 'time'])['simulated_traffic_time'].mean()\n",
    "mean_df = mean.to_frame('mean').reset_index()"
   ]
  },
  {
   "cell_type": "code",
   "execution_count": 107,
   "metadata": {},
   "outputs": [],
   "source": [
    "#merge together to create dataframe\n",
    "df_buf_index = mean_df.merge(quant_df, on=['block_group', 'time'])"
   ]
  },
  {
   "cell_type": "code",
   "execution_count": 108,
   "metadata": {},
   "outputs": [
    {
     "data": {
      "text/html": [
       "<div>\n",
       "<style scoped>\n",
       "    .dataframe tbody tr th:only-of-type {\n",
       "        vertical-align: middle;\n",
       "    }\n",
       "\n",
       "    .dataframe tbody tr th {\n",
       "        vertical-align: top;\n",
       "    }\n",
       "\n",
       "    .dataframe thead th {\n",
       "        text-align: right;\n",
       "    }\n",
       "</style>\n",
       "<table border=\"1\" class=\"dataframe\">\n",
       "  <thead>\n",
       "    <tr style=\"text-align: right;\">\n",
       "      <th></th>\n",
       "      <th>block_group</th>\n",
       "      <th>time</th>\n",
       "      <th>mean</th>\n",
       "      <th>95th</th>\n",
       "    </tr>\n",
       "  </thead>\n",
       "  <tbody>\n",
       "    <tr>\n",
       "      <th>0</th>\n",
       "      <td>530330001001</td>\n",
       "      <td>7</td>\n",
       "      <td>16.213524</td>\n",
       "      <td>30.122400</td>\n",
       "    </tr>\n",
       "    <tr>\n",
       "      <th>1</th>\n",
       "      <td>530330001001</td>\n",
       "      <td>8</td>\n",
       "      <td>16.379870</td>\n",
       "      <td>30.243563</td>\n",
       "    </tr>\n",
       "    <tr>\n",
       "      <th>2</th>\n",
       "      <td>530330001001</td>\n",
       "      <td>9</td>\n",
       "      <td>16.539255</td>\n",
       "      <td>30.410030</td>\n",
       "    </tr>\n",
       "    <tr>\n",
       "      <th>3</th>\n",
       "      <td>530330001001</td>\n",
       "      <td>10</td>\n",
       "      <td>16.567028</td>\n",
       "      <td>30.456953</td>\n",
       "    </tr>\n",
       "    <tr>\n",
       "      <th>4</th>\n",
       "      <td>530330001001</td>\n",
       "      <td>11</td>\n",
       "      <td>16.573884</td>\n",
       "      <td>30.504061</td>\n",
       "    </tr>\n",
       "  </tbody>\n",
       "</table>\n",
       "</div>"
      ],
      "text/plain": [
       "    block_group  time       mean       95th\n",
       "0  530330001001     7  16.213524  30.122400\n",
       "1  530330001001     8  16.379870  30.243563\n",
       "2  530330001001     9  16.539255  30.410030\n",
       "3  530330001001    10  16.567028  30.456953\n",
       "4  530330001001    11  16.573884  30.504061"
      ]
     },
     "execution_count": 108,
     "metadata": {},
     "output_type": "execute_result"
    }
   ],
   "source": [
    "df_buf_index.head()"
   ]
  },
  {
   "cell_type": "code",
   "execution_count": 109,
   "metadata": {},
   "outputs": [],
   "source": [
    "#buffer idnex (%) calculation\n",
    "df_buf_index['index'] = df_buf_index['95th'] - df_buf_index['mean']/ df_buf_index['mean']"
   ]
  },
  {
   "cell_type": "code",
   "execution_count": 113,
   "metadata": {},
   "outputs": [],
   "source": [
    "#calculate mean percentage buffer index for each blockgroup\n",
    "buf_index = df_buf_index.groupby(['block_group'])['index'].mean()\n",
    "buf_index = buf_index.to_frame('index').reset_index()\n",
    "\n",
    "#make histogram of mean percetage buffer index\n",
    "buf_index_chart = alt.Chart(buf_index).mark_bar().encode(\n",
    "    alt.X('index:Q', bin=alt.BinParams(maxbins=50)),\n",
    "    y='count()'\n",
    ")"
   ]
  },
  {
   "cell_type": "code",
   "execution_count": 117,
   "metadata": {},
   "outputs": [],
   "source": []
  },
  {
   "cell_type": "code",
   "execution_count": null,
   "metadata": {},
   "outputs": [],
   "source": []
  },
  {
   "cell_type": "code",
   "execution_count": null,
   "metadata": {},
   "outputs": [],
   "source": []
  },
  {
   "cell_type": "code",
   "execution_count": null,
   "metadata": {},
   "outputs": [],
   "source": []
  },
  {
   "cell_type": "code",
   "execution_count": 167,
   "metadata": {},
   "outputs": [
    {
     "data": {
      "text/html": [
       "<div>\n",
       "<style scoped>\n",
       "    .dataframe tbody tr th:only-of-type {\n",
       "        vertical-align: middle;\n",
       "    }\n",
       "\n",
       "    .dataframe tbody tr th {\n",
       "        vertical-align: top;\n",
       "    }\n",
       "\n",
       "    .dataframe thead th {\n",
       "        text-align: right;\n",
       "    }\n",
       "</style>\n",
       "<table border=\"1\" class=\"dataframe\">\n",
       "  <thead>\n",
       "    <tr style=\"text-align: right;\">\n",
       "      <th></th>\n",
       "      <th>Unnamed: 0</th>\n",
       "      <th>block_group</th>\n",
       "      <th>lat</th>\n",
       "      <th>lon</th>\n",
       "      <th>departure_time</th>\n",
       "      <th>distance</th>\n",
       "      <th>duration</th>\n",
       "      <th>duration_in_traffic</th>\n",
       "      <th>class</th>\n",
       "      <th>destination</th>\n",
       "      <th>time</th>\n",
       "      <th>simulated_traffic_time</th>\n",
       "    </tr>\n",
       "  </thead>\n",
       "  <tbody>\n",
       "    <tr>\n",
       "      <th>0</th>\n",
       "      <td>120076</td>\n",
       "      <td>530330001001</td>\n",
       "      <td>47.54841</td>\n",
       "      <td>-122.352194</td>\n",
       "      <td>2018-07-25 07:00:00-07:00</td>\n",
       "      <td>15.624612</td>\n",
       "      <td>28.933333</td>\n",
       "      <td>31.983333</td>\n",
       "      <td>citywide</td>\n",
       "      <td>-74.803784</td>\n",
       "      <td>7</td>\n",
       "      <td>30.686239</td>\n",
       "    </tr>\n",
       "    <tr>\n",
       "      <th>1</th>\n",
       "      <td>25460</td>\n",
       "      <td>530330001001</td>\n",
       "      <td>47.54841</td>\n",
       "      <td>-122.352194</td>\n",
       "      <td>2018-07-25 08:00:00-07:00</td>\n",
       "      <td>15.565569</td>\n",
       "      <td>28.400000</td>\n",
       "      <td>39.250000</td>\n",
       "      <td>citywide</td>\n",
       "      <td>-74.803784</td>\n",
       "      <td>8</td>\n",
       "      <td>32.675034</td>\n",
       "    </tr>\n",
       "    <tr>\n",
       "      <th>2</th>\n",
       "      <td>89121</td>\n",
       "      <td>530330001001</td>\n",
       "      <td>47.54841</td>\n",
       "      <td>-122.352194</td>\n",
       "      <td>2018-07-25 09:00:00-07:00</td>\n",
       "      <td>15.624612</td>\n",
       "      <td>28.933333</td>\n",
       "      <td>35.900000</td>\n",
       "      <td>citywide</td>\n",
       "      <td>-74.803784</td>\n",
       "      <td>9</td>\n",
       "      <td>31.199236</td>\n",
       "    </tr>\n",
       "    <tr>\n",
       "      <th>3</th>\n",
       "      <td>156230</td>\n",
       "      <td>530330001001</td>\n",
       "      <td>47.54841</td>\n",
       "      <td>-122.352194</td>\n",
       "      <td>2018-07-25 10:00:00-07:00</td>\n",
       "      <td>15.624612</td>\n",
       "      <td>28.933333</td>\n",
       "      <td>29.833333</td>\n",
       "      <td>citywide</td>\n",
       "      <td>-74.803784</td>\n",
       "      <td>10</td>\n",
       "      <td>31.786378</td>\n",
       "    </tr>\n",
       "    <tr>\n",
       "      <th>4</th>\n",
       "      <td>77191</td>\n",
       "      <td>530330001001</td>\n",
       "      <td>47.54841</td>\n",
       "      <td>-122.352194</td>\n",
       "      <td>2018-07-25 11:00:00-07:00</td>\n",
       "      <td>15.624612</td>\n",
       "      <td>28.933333</td>\n",
       "      <td>30.650000</td>\n",
       "      <td>citywide</td>\n",
       "      <td>-74.803784</td>\n",
       "      <td>11</td>\n",
       "      <td>34.205688</td>\n",
       "    </tr>\n",
       "  </tbody>\n",
       "</table>\n",
       "</div>"
      ],
      "text/plain": [
       "   Unnamed: 0   block_group       lat         lon             departure_time  \\\n",
       "0      120076  530330001001  47.54841 -122.352194  2018-07-25 07:00:00-07:00   \n",
       "1       25460  530330001001  47.54841 -122.352194  2018-07-25 08:00:00-07:00   \n",
       "2       89121  530330001001  47.54841 -122.352194  2018-07-25 09:00:00-07:00   \n",
       "3      156230  530330001001  47.54841 -122.352194  2018-07-25 10:00:00-07:00   \n",
       "4       77191  530330001001  47.54841 -122.352194  2018-07-25 11:00:00-07:00   \n",
       "\n",
       "    distance   duration  duration_in_traffic     class  destination  time  \\\n",
       "0  15.624612  28.933333            31.983333  citywide   -74.803784     7   \n",
       "1  15.565569  28.400000            39.250000  citywide   -74.803784     8   \n",
       "2  15.624612  28.933333            35.900000  citywide   -74.803784     9   \n",
       "3  15.624612  28.933333            29.833333  citywide   -74.803784    10   \n",
       "4  15.624612  28.933333            30.650000  citywide   -74.803784    11   \n",
       "\n",
       "   simulated_traffic_time  \n",
       "0               30.686239  \n",
       "1               32.675034  \n",
       "2               31.199236  \n",
       "3               31.786378  \n",
       "4               34.205688  "
      ]
     },
     "execution_count": 167,
     "metadata": {},
     "output_type": "execute_result"
    }
   ],
   "source": [
    "#Calculate percentage of trips under 85th percentile\n",
    "sim_data.head()"
   ]
  },
  {
   "cell_type": "code",
   "execution_count": 168,
   "metadata": {},
   "outputs": [],
   "source": [
    "#Calculate 85th percentile of trips at every hour for each blockgroup\n",
    "q85 = sim_data.groupby(['block_group', 'time'])['simulated_traffic_time'].quantile(0.85)\n",
    "q85_df = q85.to_frame('85th').reset_index()"
   ]
  },
  {
   "cell_type": "code",
   "execution_count": 198,
   "metadata": {},
   "outputs": [
    {
     "data": {
      "text/html": [
       "<div>\n",
       "<style scoped>\n",
       "    .dataframe tbody tr th:only-of-type {\n",
       "        vertical-align: middle;\n",
       "    }\n",
       "\n",
       "    .dataframe tbody tr th {\n",
       "        vertical-align: top;\n",
       "    }\n",
       "\n",
       "    .dataframe thead th {\n",
       "        text-align: right;\n",
       "    }\n",
       "</style>\n",
       "<table border=\"1\" class=\"dataframe\">\n",
       "  <thead>\n",
       "    <tr style=\"text-align: right;\">\n",
       "      <th></th>\n",
       "      <th>block_group</th>\n",
       "      <th>time</th>\n",
       "      <th>85th</th>\n",
       "    </tr>\n",
       "  </thead>\n",
       "  <tbody>\n",
       "    <tr>\n",
       "      <th>0</th>\n",
       "      <td>530330001001</td>\n",
       "      <td>7</td>\n",
       "      <td>25.797529</td>\n",
       "    </tr>\n",
       "    <tr>\n",
       "      <th>1</th>\n",
       "      <td>530330001001</td>\n",
       "      <td>8</td>\n",
       "      <td>25.460946</td>\n",
       "    </tr>\n",
       "    <tr>\n",
       "      <th>2</th>\n",
       "      <td>530330001001</td>\n",
       "      <td>9</td>\n",
       "      <td>26.002232</td>\n",
       "    </tr>\n",
       "    <tr>\n",
       "      <th>3</th>\n",
       "      <td>530330001001</td>\n",
       "      <td>10</td>\n",
       "      <td>25.859811</td>\n",
       "    </tr>\n",
       "    <tr>\n",
       "      <th>4</th>\n",
       "      <td>530330001001</td>\n",
       "      <td>11</td>\n",
       "      <td>26.125926</td>\n",
       "    </tr>\n",
       "  </tbody>\n",
       "</table>\n",
       "</div>"
      ],
      "text/plain": [
       "    block_group  time       85th\n",
       "0  530330001001     7  25.797529\n",
       "1  530330001001     8  25.460946\n",
       "2  530330001001     9  26.002232\n",
       "3  530330001001    10  25.859811\n",
       "4  530330001001    11  26.125926"
      ]
     },
     "execution_count": 198,
     "metadata": {},
     "output_type": "execute_result"
    }
   ],
   "source": [
    "q85_df.head()"
   ]
  },
  {
   "cell_type": "code",
   "execution_count": 191,
   "metadata": {},
   "outputs": [],
   "source": [
    "#merge together to create dataframe\n",
    "df_q85th_index = sim_data.merge(q85_df, on=['block_group', 'time'])\n",
    "\n",
    "#count the number of trips under 85th percentile per hour per blockgroup\n",
    "a = df_q85th_index[df_q85th_index['simulated_traffic_time'] < df_q85th_index['85th']].groupby(['block_group', 'time'])['simulated_traffic_time'].count()\n",
    "\n",
    "\n"
   ]
  },
  {
   "cell_type": "code",
   "execution_count": 193,
   "metadata": {},
   "outputs": [
    {
     "data": {
      "text/plain": [
       "array([637, 612])"
      ]
     },
     "execution_count": 193,
     "metadata": {},
     "output_type": "execute_result"
    }
   ],
   "source": [
    "a.unique()"
   ]
  },
  {
   "cell_type": "code",
   "execution_count": null,
   "metadata": {},
   "outputs": [],
   "source": []
  },
  {
   "cell_type": "code",
   "execution_count": null,
   "metadata": {},
   "outputs": [],
   "source": []
  },
  {
   "cell_type": "code",
   "execution_count": null,
   "metadata": {},
   "outputs": [],
   "source": [
    "# df_q85th_index['below_threshold'] = df_q85th_index['85th'] - df_q85th_index['simulated_traffic_time']\n",
    "# df_q85th_index = df_q85th_index.groupby(['block_group', 'time'])['below_threshold'].apply(lambda x: x.lt(0).sum())\n",
    "# df_q85th_index = df_q85th_index.to_frame('sum_below').reset_index()\n"
   ]
  },
  {
   "cell_type": "code",
   "execution_count": 134,
   "metadata": {},
   "outputs": [
    {
     "data": {
      "text/html": [
       "<div>\n",
       "<style scoped>\n",
       "    .dataframe tbody tr th:only-of-type {\n",
       "        vertical-align: middle;\n",
       "    }\n",
       "\n",
       "    .dataframe tbody tr th {\n",
       "        vertical-align: top;\n",
       "    }\n",
       "\n",
       "    .dataframe thead th {\n",
       "        text-align: right;\n",
       "    }\n",
       "</style>\n",
       "<table border=\"1\" class=\"dataframe\">\n",
       "  <thead>\n",
       "    <tr style=\"text-align: right;\">\n",
       "      <th></th>\n",
       "      <th>block_group</th>\n",
       "      <th>time</th>\n",
       "      <th>sum_below</th>\n",
       "    </tr>\n",
       "  </thead>\n",
       "  <tbody>\n",
       "    <tr>\n",
       "      <th>0</th>\n",
       "      <td>530330001001</td>\n",
       "      <td>7</td>\n",
       "      <td>637</td>\n",
       "    </tr>\n",
       "    <tr>\n",
       "      <th>1</th>\n",
       "      <td>530330001001</td>\n",
       "      <td>8</td>\n",
       "      <td>637</td>\n",
       "    </tr>\n",
       "    <tr>\n",
       "      <th>2</th>\n",
       "      <td>530330001001</td>\n",
       "      <td>9</td>\n",
       "      <td>637</td>\n",
       "    </tr>\n",
       "    <tr>\n",
       "      <th>3</th>\n",
       "      <td>530330001001</td>\n",
       "      <td>10</td>\n",
       "      <td>637</td>\n",
       "    </tr>\n",
       "    <tr>\n",
       "      <th>4</th>\n",
       "      <td>530330001001</td>\n",
       "      <td>11</td>\n",
       "      <td>637</td>\n",
       "    </tr>\n",
       "    <tr>\n",
       "      <th>5</th>\n",
       "      <td>530330001001</td>\n",
       "      <td>12</td>\n",
       "      <td>637</td>\n",
       "    </tr>\n",
       "    <tr>\n",
       "      <th>6</th>\n",
       "      <td>530330001001</td>\n",
       "      <td>13</td>\n",
       "      <td>637</td>\n",
       "    </tr>\n",
       "    <tr>\n",
       "      <th>7</th>\n",
       "      <td>530330001001</td>\n",
       "      <td>14</td>\n",
       "      <td>637</td>\n",
       "    </tr>\n",
       "    <tr>\n",
       "      <th>8</th>\n",
       "      <td>530330001001</td>\n",
       "      <td>15</td>\n",
       "      <td>637</td>\n",
       "    </tr>\n",
       "    <tr>\n",
       "      <th>9</th>\n",
       "      <td>530330001001</td>\n",
       "      <td>16</td>\n",
       "      <td>637</td>\n",
       "    </tr>\n",
       "    <tr>\n",
       "      <th>10</th>\n",
       "      <td>530330001001</td>\n",
       "      <td>17</td>\n",
       "      <td>637</td>\n",
       "    </tr>\n",
       "    <tr>\n",
       "      <th>11</th>\n",
       "      <td>530330001001</td>\n",
       "      <td>18</td>\n",
       "      <td>637</td>\n",
       "    </tr>\n",
       "    <tr>\n",
       "      <th>12</th>\n",
       "      <td>530330001001</td>\n",
       "      <td>19</td>\n",
       "      <td>637</td>\n",
       "    </tr>\n",
       "    <tr>\n",
       "      <th>13</th>\n",
       "      <td>530330001001</td>\n",
       "      <td>20</td>\n",
       "      <td>637</td>\n",
       "    </tr>\n",
       "    <tr>\n",
       "      <th>14</th>\n",
       "      <td>530330001002</td>\n",
       "      <td>7</td>\n",
       "      <td>637</td>\n",
       "    </tr>\n",
       "    <tr>\n",
       "      <th>15</th>\n",
       "      <td>530330001002</td>\n",
       "      <td>8</td>\n",
       "      <td>637</td>\n",
       "    </tr>\n",
       "    <tr>\n",
       "      <th>16</th>\n",
       "      <td>530330001002</td>\n",
       "      <td>9</td>\n",
       "      <td>637</td>\n",
       "    </tr>\n",
       "    <tr>\n",
       "      <th>17</th>\n",
       "      <td>530330001002</td>\n",
       "      <td>10</td>\n",
       "      <td>637</td>\n",
       "    </tr>\n",
       "    <tr>\n",
       "      <th>18</th>\n",
       "      <td>530330001002</td>\n",
       "      <td>11</td>\n",
       "      <td>637</td>\n",
       "    </tr>\n",
       "    <tr>\n",
       "      <th>19</th>\n",
       "      <td>530330001002</td>\n",
       "      <td>12</td>\n",
       "      <td>637</td>\n",
       "    </tr>\n",
       "    <tr>\n",
       "      <th>20</th>\n",
       "      <td>530330001002</td>\n",
       "      <td>13</td>\n",
       "      <td>637</td>\n",
       "    </tr>\n",
       "    <tr>\n",
       "      <th>21</th>\n",
       "      <td>530330001002</td>\n",
       "      <td>14</td>\n",
       "      <td>637</td>\n",
       "    </tr>\n",
       "    <tr>\n",
       "      <th>22</th>\n",
       "      <td>530330001002</td>\n",
       "      <td>15</td>\n",
       "      <td>637</td>\n",
       "    </tr>\n",
       "    <tr>\n",
       "      <th>23</th>\n",
       "      <td>530330001002</td>\n",
       "      <td>16</td>\n",
       "      <td>637</td>\n",
       "    </tr>\n",
       "    <tr>\n",
       "      <th>24</th>\n",
       "      <td>530330001002</td>\n",
       "      <td>17</td>\n",
       "      <td>637</td>\n",
       "    </tr>\n",
       "    <tr>\n",
       "      <th>25</th>\n",
       "      <td>530330001002</td>\n",
       "      <td>18</td>\n",
       "      <td>637</td>\n",
       "    </tr>\n",
       "    <tr>\n",
       "      <th>26</th>\n",
       "      <td>530330001002</td>\n",
       "      <td>19</td>\n",
       "      <td>637</td>\n",
       "    </tr>\n",
       "    <tr>\n",
       "      <th>27</th>\n",
       "      <td>530330001002</td>\n",
       "      <td>20</td>\n",
       "      <td>637</td>\n",
       "    </tr>\n",
       "    <tr>\n",
       "      <th>28</th>\n",
       "      <td>530330001003</td>\n",
       "      <td>7</td>\n",
       "      <td>637</td>\n",
       "    </tr>\n",
       "    <tr>\n",
       "      <th>29</th>\n",
       "      <td>530330001003</td>\n",
       "      <td>8</td>\n",
       "      <td>637</td>\n",
       "    </tr>\n",
       "    <tr>\n",
       "      <th>...</th>\n",
       "      <td>...</td>\n",
       "      <td>...</td>\n",
       "      <td>...</td>\n",
       "    </tr>\n",
       "    <tr>\n",
       "      <th>6704</th>\n",
       "      <td>530330264004</td>\n",
       "      <td>19</td>\n",
       "      <td>637</td>\n",
       "    </tr>\n",
       "    <tr>\n",
       "      <th>6705</th>\n",
       "      <td>530330264004</td>\n",
       "      <td>20</td>\n",
       "      <td>637</td>\n",
       "    </tr>\n",
       "    <tr>\n",
       "      <th>6706</th>\n",
       "      <td>530330264005</td>\n",
       "      <td>7</td>\n",
       "      <td>637</td>\n",
       "    </tr>\n",
       "    <tr>\n",
       "      <th>6707</th>\n",
       "      <td>530330264005</td>\n",
       "      <td>8</td>\n",
       "      <td>637</td>\n",
       "    </tr>\n",
       "    <tr>\n",
       "      <th>6708</th>\n",
       "      <td>530330264005</td>\n",
       "      <td>9</td>\n",
       "      <td>637</td>\n",
       "    </tr>\n",
       "    <tr>\n",
       "      <th>6709</th>\n",
       "      <td>530330264005</td>\n",
       "      <td>10</td>\n",
       "      <td>637</td>\n",
       "    </tr>\n",
       "    <tr>\n",
       "      <th>6710</th>\n",
       "      <td>530330264005</td>\n",
       "      <td>11</td>\n",
       "      <td>637</td>\n",
       "    </tr>\n",
       "    <tr>\n",
       "      <th>6711</th>\n",
       "      <td>530330264005</td>\n",
       "      <td>12</td>\n",
       "      <td>637</td>\n",
       "    </tr>\n",
       "    <tr>\n",
       "      <th>6712</th>\n",
       "      <td>530330264005</td>\n",
       "      <td>13</td>\n",
       "      <td>637</td>\n",
       "    </tr>\n",
       "    <tr>\n",
       "      <th>6713</th>\n",
       "      <td>530330264005</td>\n",
       "      <td>14</td>\n",
       "      <td>637</td>\n",
       "    </tr>\n",
       "    <tr>\n",
       "      <th>6714</th>\n",
       "      <td>530330264005</td>\n",
       "      <td>15</td>\n",
       "      <td>637</td>\n",
       "    </tr>\n",
       "    <tr>\n",
       "      <th>6715</th>\n",
       "      <td>530330264005</td>\n",
       "      <td>16</td>\n",
       "      <td>637</td>\n",
       "    </tr>\n",
       "    <tr>\n",
       "      <th>6716</th>\n",
       "      <td>530330264005</td>\n",
       "      <td>17</td>\n",
       "      <td>637</td>\n",
       "    </tr>\n",
       "    <tr>\n",
       "      <th>6717</th>\n",
       "      <td>530330264005</td>\n",
       "      <td>18</td>\n",
       "      <td>637</td>\n",
       "    </tr>\n",
       "    <tr>\n",
       "      <th>6718</th>\n",
       "      <td>530330264005</td>\n",
       "      <td>19</td>\n",
       "      <td>637</td>\n",
       "    </tr>\n",
       "    <tr>\n",
       "      <th>6719</th>\n",
       "      <td>530330264005</td>\n",
       "      <td>20</td>\n",
       "      <td>637</td>\n",
       "    </tr>\n",
       "    <tr>\n",
       "      <th>6720</th>\n",
       "      <td>530330265001</td>\n",
       "      <td>7</td>\n",
       "      <td>637</td>\n",
       "    </tr>\n",
       "    <tr>\n",
       "      <th>6721</th>\n",
       "      <td>530330265001</td>\n",
       "      <td>8</td>\n",
       "      <td>637</td>\n",
       "    </tr>\n",
       "    <tr>\n",
       "      <th>6722</th>\n",
       "      <td>530330265001</td>\n",
       "      <td>9</td>\n",
       "      <td>637</td>\n",
       "    </tr>\n",
       "    <tr>\n",
       "      <th>6723</th>\n",
       "      <td>530330265001</td>\n",
       "      <td>10</td>\n",
       "      <td>637</td>\n",
       "    </tr>\n",
       "    <tr>\n",
       "      <th>6724</th>\n",
       "      <td>530330265001</td>\n",
       "      <td>11</td>\n",
       "      <td>637</td>\n",
       "    </tr>\n",
       "    <tr>\n",
       "      <th>6725</th>\n",
       "      <td>530330265001</td>\n",
       "      <td>12</td>\n",
       "      <td>637</td>\n",
       "    </tr>\n",
       "    <tr>\n",
       "      <th>6726</th>\n",
       "      <td>530330265001</td>\n",
       "      <td>13</td>\n",
       "      <td>637</td>\n",
       "    </tr>\n",
       "    <tr>\n",
       "      <th>6727</th>\n",
       "      <td>530330265001</td>\n",
       "      <td>14</td>\n",
       "      <td>637</td>\n",
       "    </tr>\n",
       "    <tr>\n",
       "      <th>6728</th>\n",
       "      <td>530330265001</td>\n",
       "      <td>15</td>\n",
       "      <td>637</td>\n",
       "    </tr>\n",
       "    <tr>\n",
       "      <th>6729</th>\n",
       "      <td>530330265001</td>\n",
       "      <td>16</td>\n",
       "      <td>637</td>\n",
       "    </tr>\n",
       "    <tr>\n",
       "      <th>6730</th>\n",
       "      <td>530330265001</td>\n",
       "      <td>17</td>\n",
       "      <td>637</td>\n",
       "    </tr>\n",
       "    <tr>\n",
       "      <th>6731</th>\n",
       "      <td>530330265001</td>\n",
       "      <td>18</td>\n",
       "      <td>637</td>\n",
       "    </tr>\n",
       "    <tr>\n",
       "      <th>6732</th>\n",
       "      <td>530330265001</td>\n",
       "      <td>19</td>\n",
       "      <td>637</td>\n",
       "    </tr>\n",
       "    <tr>\n",
       "      <th>6733</th>\n",
       "      <td>530330265001</td>\n",
       "      <td>20</td>\n",
       "      <td>637</td>\n",
       "    </tr>\n",
       "  </tbody>\n",
       "</table>\n",
       "<p>6734 rows × 3 columns</p>\n",
       "</div>"
      ],
      "text/plain": [
       "       block_group  time  sum_below\n",
       "0     530330001001     7        637\n",
       "1     530330001001     8        637\n",
       "2     530330001001     9        637\n",
       "3     530330001001    10        637\n",
       "4     530330001001    11        637\n",
       "5     530330001001    12        637\n",
       "6     530330001001    13        637\n",
       "7     530330001001    14        637\n",
       "8     530330001001    15        637\n",
       "9     530330001001    16        637\n",
       "10    530330001001    17        637\n",
       "11    530330001001    18        637\n",
       "12    530330001001    19        637\n",
       "13    530330001001    20        637\n",
       "14    530330001002     7        637\n",
       "15    530330001002     8        637\n",
       "16    530330001002     9        637\n",
       "17    530330001002    10        637\n",
       "18    530330001002    11        637\n",
       "19    530330001002    12        637\n",
       "20    530330001002    13        637\n",
       "21    530330001002    14        637\n",
       "22    530330001002    15        637\n",
       "23    530330001002    16        637\n",
       "24    530330001002    17        637\n",
       "25    530330001002    18        637\n",
       "26    530330001002    19        637\n",
       "27    530330001002    20        637\n",
       "28    530330001003     7        637\n",
       "29    530330001003     8        637\n",
       "...            ...   ...        ...\n",
       "6704  530330264004    19        637\n",
       "6705  530330264004    20        637\n",
       "6706  530330264005     7        637\n",
       "6707  530330264005     8        637\n",
       "6708  530330264005     9        637\n",
       "6709  530330264005    10        637\n",
       "6710  530330264005    11        637\n",
       "6711  530330264005    12        637\n",
       "6712  530330264005    13        637\n",
       "6713  530330264005    14        637\n",
       "6714  530330264005    15        637\n",
       "6715  530330264005    16        637\n",
       "6716  530330264005    17        637\n",
       "6717  530330264005    18        637\n",
       "6718  530330264005    19        637\n",
       "6719  530330264005    20        637\n",
       "6720  530330265001     7        637\n",
       "6721  530330265001     8        637\n",
       "6722  530330265001     9        637\n",
       "6723  530330265001    10        637\n",
       "6724  530330265001    11        637\n",
       "6725  530330265001    12        637\n",
       "6726  530330265001    13        637\n",
       "6727  530330265001    14        637\n",
       "6728  530330265001    15        637\n",
       "6729  530330265001    16        637\n",
       "6730  530330265001    17        637\n",
       "6731  530330265001    18        637\n",
       "6732  530330265001    19        637\n",
       "6733  530330265001    20        637\n",
       "\n",
       "[6734 rows x 3 columns]"
      ]
     },
     "execution_count": 134,
     "metadata": {},
     "output_type": "execute_result"
    }
   ],
   "source": [
    "df_q85th_index['sum_']"
   ]
  },
  {
   "cell_type": "code",
   "execution_count": 131,
   "metadata": {},
   "outputs": [
    {
     "data": {
      "text/plain": [
       "4281158"
      ]
     },
     "execution_count": 131,
     "metadata": {},
     "output_type": "execute_result"
    }
   ],
   "source": [
    "df_q85th_index['below_threshold'].gt(0).sum()"
   ]
  },
  {
   "cell_type": "code",
   "execution_count": null,
   "metadata": {},
   "outputs": [],
   "source": [
    "df[df < 1.0 ].count() "
   ]
  }
 ],
 "metadata": {
  "kernelspec": {
   "display_name": "Python 3",
   "language": "python",
   "name": "python3"
  },
  "language_info": {
   "codemirror_mode": {
    "name": "ipython",
    "version": 3
   },
   "file_extension": ".py",
   "mimetype": "text/x-python",
   "name": "python",
   "nbconvert_exporter": "python",
   "pygments_lexer": "ipython3",
   "version": "3.6.5"
  }
 },
 "nbformat": 4,
 "nbformat_minor": 2
}
